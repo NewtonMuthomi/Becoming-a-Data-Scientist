{
 "cells": [
  {
   "cell_type": "code",
   "execution_count": 17,
   "id": "17860749-1855-498e-af5c-9ae65f73ed0e",
   "metadata": {},
   "outputs": [
    {
     "name": "stdout",
     "output_type": "stream",
     "text": [
      "[2 3 0 3 3]\n",
      "[0 2 3 3 3]\n",
      "['False' 'False' 'True' 'True']\n",
      "[[0 1 3]\n",
      " [1 4 8]]\n"
     ]
    }
   ],
   "source": [
    "import numpy as np\n",
    "arr = np.random.randint(0,5,5)\n",
    "print(arr)\n",
    "print(np.sort(arr))\n",
    "\n",
    "arrBool = np.array([\"True\", \"False\", \"True\", \"False\"])\n",
    "print(np.sort(arrBool))\n",
    "\n",
    "arrTwo = np.array([[3,0,1], [4,8,1]])\n",
    "print(np.sort(arrTwo))"
   ]
  }
 ],
 "metadata": {
  "kernelspec": {
   "display_name": "Python [conda env:base] *",
   "language": "python",
   "name": "conda-base-py"
  },
  "language_info": {
   "codemirror_mode": {
    "name": "ipython",
    "version": 3
   },
   "file_extension": ".py",
   "mimetype": "text/x-python",
   "name": "python",
   "nbconvert_exporter": "python",
   "pygments_lexer": "ipython3",
   "version": "3.12.7"
  }
 },
 "nbformat": 4,
 "nbformat_minor": 5
}
