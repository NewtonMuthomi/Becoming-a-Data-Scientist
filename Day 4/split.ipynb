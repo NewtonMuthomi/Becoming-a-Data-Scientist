{
 "cells": [
  {
   "cell_type": "code",
   "execution_count": 3,
   "id": "081651d8-44fa-41a2-a36f-c81d17876958",
   "metadata": {},
   "outputs": [
    {
     "name": "stdout",
     "output_type": "stream",
     "text": [
      "[array([1, 2]), array([3, 4]), array([5, 6])]\n",
      "[array([1, 2]), array([3, 4]), array([5]), array([6])]\n"
     ]
    }
   ],
   "source": [
    "import numpy as np\n",
    "arr = np.arange(6,)+1\n",
    "newarr = np.array_split(arr, 3)\n",
    "print(newarr)\n",
    "\n",
    "arr2 = np.arange(6,)+1\n",
    "newarr2 = np.array_split(arr2, 4)\n",
    "print(newarr2)"
   ]
  },
  {
   "cell_type": "code",
   "execution_count": 37,
   "id": "d3320872-0431-4646-8392-b75e46ec1b02",
   "metadata": {},
   "outputs": [
    {
     "name": "stdout",
     "output_type": "stream",
     "text": [
      "[array([[1, 2],\n",
      "       [3, 4]]), array([[5, 6],\n",
      "       [7, 8]]), array([[ 9, 10],\n",
      "       [11, 12]])]\n",
      "[array([[1, 2, 3],\n",
      "       [4, 5, 6]]), array([[7, 8, 9]]), array([[10, 11, 12]])]\n",
      "[array([[ 1],\n",
      "       [ 4],\n",
      "       [ 7],\n",
      "       [10]]), array([[ 2],\n",
      "       [ 5],\n",
      "       [ 8],\n",
      "       [11]]), array([[ 3],\n",
      "       [ 6],\n",
      "       [ 9],\n",
      "       [12]])]\n"
     ]
    },
    {
     "data": {
      "text/plain": [
       "[array([[ 1],\n",
       "        [ 4],\n",
       "        [ 7],\n",
       "        [10]]),\n",
       " array([[ 2],\n",
       "        [ 5],\n",
       "        [ 8],\n",
       "        [11]]),\n",
       " array([[ 3],\n",
       "        [ 6],\n",
       "        [ 9],\n",
       "        [12]])]"
      ]
     },
     "execution_count": 37,
     "metadata": {},
     "output_type": "execute_result"
    }
   ],
   "source": [
    "import numpy as np\n",
    "arr = np.arange(12,).reshape(6,2)+1\n",
    "newarr = np.array_split(arr, 3)\n",
    "print(newarr)\n",
    "\n",
    "arr2 = np.arange(12,).reshape(4,3)+1\n",
    "newarr2 = np.array_split(arr2, 3)\n",
    "print(newarr2)\n",
    "\n",
    "arr3 = np.arange(12,).reshape(4,3)+1\n",
    "newarr3 = np.array_split(arr3, 3, axis=1)\n",
    "print(newarr3)\n",
    "\n",
    "np.hsplit(arr3,3)"
   ]
  }
 ],
 "metadata": {
  "kernelspec": {
   "display_name": "Python [conda env:base] *",
   "language": "python",
   "name": "conda-base-py"
  },
  "language_info": {
   "codemirror_mode": {
    "name": "ipython",
    "version": 3
   },
   "file_extension": ".py",
   "mimetype": "text/x-python",
   "name": "python",
   "nbconvert_exporter": "python",
   "pygments_lexer": "ipython3",
   "version": "3.12.7"
  }
 },
 "nbformat": 4,
 "nbformat_minor": 5
}
