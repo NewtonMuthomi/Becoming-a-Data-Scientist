{
 "cells": [
  {
   "cell_type": "code",
   "execution_count": 21,
   "id": "28531a5f-c8c2-4fc7-bec0-72c8b78b4fe7",
   "metadata": {},
   "outputs": [
    {
     "name": "stdout",
     "output_type": "stream",
     "text": [
      "(array([3, 5, 6], dtype=int64),)\n",
      "(array([ 0,  2,  4,  6,  8, 10], dtype=int64),)\n",
      "(array([1, 3, 5, 7, 9], dtype=int64),)\n"
     ]
    }
   ],
   "source": [
    "import numpy as np\n",
    "arr = np.array([1,2,3,4,5,4,4])\n",
    "x = np.where(arr == 4)\n",
    "print(x)\n",
    "\n",
    "arrEven = np.arange(11)\n",
    "y = np.where(arrEven%2 == 0)\n",
    "print(y)\n",
    "\n",
    "arrOdd = np.arange(11)\n",
    "z = np.where(arrOdd%2 == 1)\n",
    "print(z)"
   ]
  },
  {
   "cell_type": "code",
   "execution_count": 103,
   "id": "4bc1f7ba-ec7a-405f-a6a9-1f34b3544f5c",
   "metadata": {},
   "outputs": [
    {
     "name": "stdout",
     "output_type": "stream",
     "text": [
      "1\n",
      "[7 9 5 9]\n",
      "3\n",
      "3\n",
      "[0 1 2]\n"
     ]
    }
   ],
   "source": [
    "import numpy as np\n",
    "arr = np.arange(5)+6\n",
    "x = np.searchsorted(arr, 7)\n",
    "print(x)\n",
    "\n",
    "arr2 = np.random.randint(1,10,4)\n",
    "print(arr2)\n",
    "y = np.searchsorted(arr2, 7)\n",
    "print(y)\n",
    "z = np.searchsorted(arr2, 7, side='right')\n",
    "print(z)\n",
    "\n",
    "ax = np.searchsorted(arr, [6,7,8])\n",
    "print(ax)"
   ]
  }
 ],
 "metadata": {
  "kernelspec": {
   "display_name": "Python [conda env:base] *",
   "language": "python",
   "name": "conda-base-py"
  },
  "language_info": {
   "codemirror_mode": {
    "name": "ipython",
    "version": 3
   },
   "file_extension": ".py",
   "mimetype": "text/x-python",
   "name": "python",
   "nbconvert_exporter": "python",
   "pygments_lexer": "ipython3",
   "version": "3.12.7"
  }
 },
 "nbformat": 4,
 "nbformat_minor": 5
}
