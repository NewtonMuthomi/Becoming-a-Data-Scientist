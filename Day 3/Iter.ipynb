{
 "cells": [
  {
   "cell_type": "code",
   "execution_count": 29,
   "id": "7edf8fd2-5a8a-4556-893a-3f59a13e3123",
   "metadata": {},
   "outputs": [
    {
     "name": "stdout",
     "output_type": "stream",
     "text": [
      "1\n",
      "2\n",
      "3\n"
     ]
    }
   ],
   "source": [
    "import numpy as np\n",
    "\n",
    "#Iterating through a Vector\n",
    "arr = np.array([1,2,3])\n",
    "\n",
    "for x in arr:\n",
    "    print(x)\n",
    "        "
   ]
  },
  {
   "cell_type": "code",
   "execution_count": 37,
   "id": "f2f2bffc-0b5a-4247-b840-3bcca044a28d",
   "metadata": {},
   "outputs": [
    {
     "name": "stdout",
     "output_type": "stream",
     "text": [
      "[1 2 3]\n",
      "[4 5 6]\n",
      "\n",
      "1\n",
      "2\n",
      "3\n",
      "4\n",
      "5\n",
      "6\n",
      "\n"
     ]
    }
   ],
   "source": [
    "import numpy as np\n",
    "\n",
    "#Iterating through a Matrix\n",
    "arr = np.array([[1,2,3], [4,5,6]])\n",
    "\n",
    "for x in arr:\n",
    "    print(x)\n",
    "print()\n",
    "\n",
    "#Iterating through each scalar element in the 2D matrix\n",
    "for x in arr:\n",
    "    for y in x:\n",
    "        print(y)"
   ]
  },
  {
   "cell_type": "code",
   "execution_count": 7,
   "id": "de65bd54-cc92-4c7c-83bf-785ea5fce794",
   "metadata": {},
   "outputs": [
    {
     "name": "stdout",
     "output_type": "stream",
     "text": [
      "[[1, 2, 3], [4, 5, 6]]\n",
      "[1, 2, 3]\n",
      "1\n",
      "2\n",
      "3\n",
      "[4, 5, 6]\n",
      "4\n",
      "5\n",
      "6\n",
      "\n",
      "[[1, 2, 3], [4, 5, 6]]\n",
      "[1, 2, 3]\n",
      "1\n",
      "2\n",
      "3\n",
      "[4, 5, 6]\n",
      "4\n",
      "5\n",
      "6\n",
      "\n"
     ]
    }
   ],
   "source": [
    "import numpy as np\n",
    "\n",
    "#Iterating through Tensors\n",
    "arr = ([[[1,2,3], [4,5,6]], [[1,2,3], [4,5,6]]])\n",
    "\n",
    "for x in arr:\n",
    "    print(x)\n",
    "    for y in x:\n",
    "        print(y)\n",
    "        for z in y: \n",
    "            print(z)\n",
    "    print()"
   ]
  },
  {
   "cell_type": "code",
   "execution_count": 1,
   "id": "9b8e1342-f6c9-4c90-8695-d608802ae02e",
   "metadata": {},
   "outputs": [
    {
     "name": "stdout",
     "output_type": "stream",
     "text": [
      "1\n",
      "2\n",
      "3\n",
      "4\n",
      "5\n",
      "6\n",
      "7\n",
      "8\n",
      "\n",
      "b'1'\n",
      "b'2'\n",
      "b'3'\n",
      "b'4'\n",
      "b'5'\n"
     ]
    }
   ],
   "source": [
    "import numpy as np\n",
    "\n",
    "#using nditer for iterations\n",
    "arr = np.array([[[1,2], [3,4]], [[5,6], [7,8]]])\n",
    "\n",
    "for x in np.nditer(arr):\n",
    "    print(x)\n",
    "print()\n",
    "\n",
    "#simultaneously changing datatypes (Type Casting)\n",
    "arr2 = np.array([1,2,3,4,5])\n",
    "\n",
    "for x in np.nditer(arr2, flags=[\"buffered\"], op_dtypes=[\"S\"]):\n",
    "    print(x)"
   ]
  },
  {
   "cell_type": "code",
   "execution_count": 19,
   "id": "32edbf4e-b4de-4b70-abb2-884278064b74",
   "metadata": {},
   "outputs": [
    {
     "name": "stdout",
     "output_type": "stream",
     "text": [
      "1\n",
      "3\n",
      "4\n",
      "6\n"
     ]
    }
   ],
   "source": [
    "import numpy as np\n",
    "\n",
    "#Step-wise iteration\n",
    "arr = np.array([[1,2,3], [4,5,6]])\n",
    "\n",
    "for x in np.nditer(arr[:, ::2]):\n",
    "    print(x)"
   ]
  },
  {
   "cell_type": "code",
   "execution_count": 29,
   "id": "7b0153f7-dfcb-45be-8ac3-9759876560a7",
   "metadata": {},
   "outputs": [
    {
     "name": "stdout",
     "output_type": "stream",
     "text": [
      "(0,) 1\n",
      "(1,) 2\n",
      "(2,) 3\n",
      "(3,) 4\n",
      "(4,) 5\n",
      "\n",
      "(0, 0) 1\n",
      "(0, 1) 2\n",
      "(0, 2) 3\n",
      "(0, 3) 4\n",
      "(1, 0) 5\n",
      "(1, 1) 6\n",
      "(1, 2) 7\n",
      "(1, 3) 8\n"
     ]
    }
   ],
   "source": [
    "import numpy as np\n",
    "\n",
    "#Enumeration through a 1D array\n",
    "arr = np.array([1,2,3,4,5])\n",
    "\n",
    "for idx, val in np.ndenumerate(arr):\n",
    "    print(idx, val)\n",
    "print()\n",
    "\n",
    "#Enumeration through a 2D array\n",
    "arr2 = np.array([[1,2,3,4], [5,6,7,8]])\n",
    "\n",
    "for idx, val in np.ndenumerate(arr2):\n",
    "    print(idx, val)"
   ]
  },
  {
   "cell_type": "code",
   "execution_count": 159,
   "id": "3162b39a-d0a6-4174-a0d9-be95c26b15a2",
   "metadata": {},
   "outputs": [
    {
     "name": "stdout",
     "output_type": "stream",
     "text": [
      "[[0 1 2]\n",
      " [3 4 5]]\n",
      "\n",
      "[[0 3]\n",
      " [1 4]\n",
      " [2 5]]\n",
      "\n",
      "(0, 0) 0\n",
      "(0, 1) 1\n",
      "(0, 2) 2\n",
      "(1, 0) 3\n",
      "(1, 1) 4\n",
      "(1, 2) 5\n",
      "\n",
      "0.0\n",
      "1.0\n",
      "2.0\n",
      "3.0\n",
      "4.0\n",
      "5.0\n",
      "\n",
      "0 3 1 4 2 5 "
     ]
    }
   ],
   "source": [
    "import numpy as np\n",
    "\n",
    "#More practice\n",
    "arr = np.arange(6).reshape(2,3)\n",
    "print(arr)\n",
    "print()\n",
    "print(arr.T) #This is transposition. Swaps the r and c.\n",
    "print()\n",
    "\n",
    "#Enumeration\n",
    "for idx, val in np.ndenumerate(arr):\n",
    "    print(idx, val)\n",
    "print()\n",
    "\n",
    "#Type Casting\n",
    "for x in np.nditer(arr, flags = [\"buffered\"], op_dtypes = \"float\"):\n",
    "    print(x)\n",
    "print()\n",
    "\n",
    "for x in np.nditer(arr.T.copy(order = 'C')):\n",
    "    print(x, end = ' ')"
   ]
  },
  {
   "cell_type": "code",
   "execution_count": 93,
   "id": "b88a26d7-590d-4349-9e0a-d99eb539cd73",
   "metadata": {},
   "outputs": [
    {
     "name": "stdout",
     "output_type": "stream",
     "text": [
      "0:0 1:1 2:2 0:3 1:4 2:5 \n",
      "\n",
      "[[[0 1 2]\n",
      "  [3 4 5]]] \n",
      "\n",
      " [[[ 0  1  2]]\n",
      "\n",
      " [[ 3  4  5]]\n",
      "\n",
      " [[ 6  7  8]]\n",
      "\n",
      " [[ 9 10 11]]]\n",
      "\n",
      "0:0 1:1 2:2 3:0 4:1 5:2 0:3 1:4 2:5 3:3 4:4 5:5 0:6 1:7 2:8 3:6 4:7 5:8 0:9 1:10 2:11 3:9 4:10 5:11 "
     ]
    }
   ],
   "source": [
    "#Broadcasting arrays\n",
    "import numpy as np\n",
    "\n",
    "a = np.arange(3)\n",
    "b = np.arange(6).reshape(2,3)\n",
    "\n",
    "for x,y in np.nditer([a,b]):\n",
    "    print(f\"{x}:{y}\", end = \" \")\n",
    "print()\n",
    "print()\n",
    "\n",
    "arr = np.arange(6).reshape(1,2,3)\n",
    "arr2 = np.arange(12).reshape(4,1,3)\n",
    "print(arr, \"\\n\\n\", arr2)\n",
    "print()\n",
    "\n",
    "for x,y in np.nditer([arr,arr2]):\n",
    "    print(f\"{x}:{y}\", end = \" \")"
   ]
  },
  {
   "cell_type": "code",
   "execution_count": 168,
   "id": "8b79ceab-8392-4e50-b565-888262bde664",
   "metadata": {},
   "outputs": [
    {
     "name": "stdout",
     "output_type": "stream",
     "text": [
      "[[ 0  1  4]\n",
      " [ 9 16 25]\n",
      " [36 49 64]]\n"
     ]
    }
   ],
   "source": [
    "import numpy as np\n",
    "a = np.empty([3,3], dtype=int)\n",
    "print(a)\n",
    "\n",
    "with np.nditer(a, op_flags = [\"writeonly\"]) as anything:\n",
    "    for i,x in enumerate(anything):\n",
    "        x[...] = i*i\n",
    "        print(f\"{x}:{i}\", end = \" \")\n",
    "        "
   ]
  },
  {
   "cell_type": "code",
   "execution_count": 224,
   "id": "09977a57-59b9-4ece-b2ea-e972b2beea68",
   "metadata": {},
   "outputs": [
    {
     "name": "stdout",
     "output_type": "stream",
     "text": [
      "[ 0  1  2  3  4  5  6  7  8  9 10 11]\n",
      "66 "
     ]
    }
   ],
   "source": [
    "import numpy as np\n",
    "\n",
    "a = np.arange(12).reshape(4,1,3)\n",
    "for row in np.nditer(a, flags=[\"external_loop\"]):\n",
    "    print(row)\n",
    "    print(np.sum(row), end = \" \")"
   ]
  },
  {
   "cell_type": "code",
   "execution_count": 220,
   "id": "d8ed3c00-9bb1-4a8d-8aa0-4025f695518b",
   "metadata": {},
   "outputs": [
    {
     "name": "stdout",
     "output_type": "stream",
     "text": [
      "0 0 1 1 2 2 3 3 4 4 5 5 6 6 7 7 8 8 9 9 10 10 11 11 "
     ]
    }
   ],
   "source": [
    "import numpy as np\n",
    "a = np.arange(12).reshape(4,1,3)\n",
    "for row in np.nditer(a):\n",
    "    print(row, end = \" \")\n",
    "    print(np.sum(row), end = \" \")"
   ]
  },
  {
   "cell_type": "code",
   "execution_count": 232,
   "id": "d2567c53-a4db-4496-b204-eeca8451d5c0",
   "metadata": {},
   "outputs": [
    {
     "data": {
      "text/plain": [
       "array([[[ 0,  0,  0,  0],\n",
       "        [ 0,  0,  0,  0]],\n",
       "\n",
       "       [[ 0,  1,  2,  3],\n",
       "        [ 4,  5,  6,  7]],\n",
       "\n",
       "       [[ 0,  2,  4,  6],\n",
       "        [ 8, 10, 12, 14]]])"
      ]
     },
     "execution_count": 232,
     "metadata": {},
     "output_type": "execute_result"
    }
   ],
   "source": [
    "import numpy as np\n",
    "a = np.arange(3)\n",
    "b = np.arange(8).reshape(2,4)\n",
    "it = np.nditer([a,b,None], flags=[\"external_loop\"], op_axes=[[0,-1,-1], [-1,0,1], None])\n",
    "with it:\n",
    "    for x,y,z in it:\n",
    "        z[...] = x*y\n",
    "    result = it.operands[2]\n",
    "    \n",
    "result"
   ]
  },
  {
   "cell_type": "code",
   "execution_count": 278,
   "id": "6fb4a551-004b-4c86-9968-59fba6d5dc31",
   "metadata": {},
   "outputs": [
    {
     "data": {
      "text/plain": [
       "array(276)"
      ]
     },
     "execution_count": 278,
     "metadata": {},
     "output_type": "execute_result"
    }
   ],
   "source": [
    "#Reduction\n",
    "import numpy as np\n",
    "\n",
    "a = np.arange(24).reshape(2,3,4)\n",
    "b = np.array(0)\n",
    "\n",
    "with np.nditer([a,b], flags=[\"reduce_ok\"], op_flags=[\"readwrite\"]) as it:\n",
    "    for x,y in it:\n",
    "        y[...] += x\n",
    "b"
   ]
  }
 ],
 "metadata": {
  "kernelspec": {
   "display_name": "Python [conda env:base] *",
   "language": "python",
   "name": "conda-base-py"
  },
  "language_info": {
   "codemirror_mode": {
    "name": "ipython",
    "version": 3
   },
   "file_extension": ".py",
   "mimetype": "text/x-python",
   "name": "python",
   "nbconvert_exporter": "python",
   "pygments_lexer": "ipython3",
   "version": "3.12.7"
  }
 },
 "nbformat": 4,
 "nbformat_minor": 5
}
