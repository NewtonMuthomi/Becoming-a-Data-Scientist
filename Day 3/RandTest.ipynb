{
 "cells": [
  {
   "cell_type": "code",
   "execution_count": 25,
   "id": "a1398a6a-ca24-41b8-806b-355b7f682d80",
   "metadata": {},
   "outputs": [
    {
     "name": "stdout",
     "output_type": "stream",
     "text": [
      "[[1. 1. 1. 1. 1.]\n",
      " [1. 1. 1. 1. 1.]\n",
      " [1. 1. 1. 1. 1.]\n",
      " [1. 1. 1. 1. 1.]\n",
      " [1. 1. 1. 1. 1.]]\n",
      "\n",
      "[[0. 0. 0.]\n",
      " [0. 9. 0.]\n",
      " [0. 0. 0.]]\n",
      "\n",
      "[[1. 1. 1. 1. 1.]\n",
      " [1. 0. 0. 0. 1.]\n",
      " [1. 0. 9. 0. 1.]\n",
      " [1. 0. 0. 0. 1.]\n",
      " [1. 1. 1. 1. 1.]]\n"
     ]
    }
   ],
   "source": [
    "import numpy as np\n",
    "\n",
    "#Slicing and modifying arrays\n",
    "arr = np.ones([5,5])\n",
    "print(arr)\n",
    "print()\n",
    "\n",
    "arr2 = arr[1:4, 1:4]\n",
    "arr2 = np.zeros([3,3])\n",
    "arr2[1,1] = 9\n",
    "print(arr2)\n",
    "print()\n",
    "\n",
    "arr[1:4, 1:4] = arr2\n",
    "print(arr)"
   ]
  },
  {
   "cell_type": "code",
   "execution_count": 49,
   "id": "bc4e701a-68af-40b7-984f-bcb41c11d389",
   "metadata": {},
   "outputs": [
    {
     "name": "stdout",
     "output_type": "stream",
     "text": [
      "[[ 1  2  3  4  5  6]\n",
      " [ 7  8  9 10 11 12]\n",
      " [13 14 15 16 17 18]\n",
      " [19 20 21 22 23 24]\n",
      " [25 26 27 28 29 30]\n",
      " [31 32 33 34 35 36]]\n",
      "\n",
      "[ 1  8 15 22 29 36]\n",
      "\n",
      "[[ 9 10 11]\n",
      " [15 16 17]\n",
      " [21 22 23]]\n",
      "\n",
      "[[ 8 10 11 12]\n",
      " [14 16 17 18]\n",
      " [20 22 23 24]]\n"
     ]
    }
   ],
   "source": [
    "import numpy as np\n",
    "\n",
    "#Indexing elements\n",
    "arr = np.arange(1, 37)\n",
    "arr = arr.reshape(6, 6)\n",
    "print(arr)\n",
    "print()\n",
    "\n",
    "arr1 = arr[[0,1,2,3,4,5], [0,1,2,3,4,5]]\n",
    "print(arr1)\n",
    "print()\n",
    "\n",
    "arr2 = arr[1:4, 2:5]\n",
    "print(arr2)\n",
    "print()\n",
    "\n",
    "arr3 = arr[1:4, [1,3,4,5]]\n",
    "print(arr3)"
   ]
  }
 ],
 "metadata": {
  "kernelspec": {
   "display_name": "Python [conda env:base] *",
   "language": "python",
   "name": "conda-base-py"
  },
  "language_info": {
   "codemirror_mode": {
    "name": "ipython",
    "version": 3
   },
   "file_extension": ".py",
   "mimetype": "text/x-python",
   "name": "python",
   "nbconvert_exporter": "python",
   "pygments_lexer": "ipython3",
   "version": "3.12.7"
  }
 },
 "nbformat": 4,
 "nbformat_minor": 5
}
