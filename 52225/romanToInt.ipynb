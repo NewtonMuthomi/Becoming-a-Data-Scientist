{
 "cells": [
  {
   "cell_type": "code",
   "execution_count": 33,
   "id": "a604cad1-b636-4433-a62f-72a931471922",
   "metadata": {},
   "outputs": [
    {
     "name": "stdout",
     "output_type": "stream",
     "text": [
      "400\n"
     ]
    }
   ],
   "source": [
    "def romanToInt(s: str):\n",
    "    roman_to_int = {\n",
    "        'I': 1, 'V': 5, 'X': 10, 'L': 50, 'C': 100, 'D': 500, 'M': 1000\n",
    "    }\n",
    "    res = 0\n",
    "    for i in range(len(s)):\n",
    "        if i+1<len(s) and roman_to_int[s[i]]<roman_to_int[s[i+1]]:\n",
    "            res -= roman_to_int[s[i]]\n",
    "        else:\n",
    "            res += roman_to_int[s[i]]\n",
    "    return res\n",
    "\n",
    "my_int = romanToInt('CDM')\n",
    "print(my_int)"
   ]
  }
 ],
 "metadata": {
  "kernelspec": {
   "display_name": "Python [conda env:base] *",
   "language": "python",
   "name": "conda-base-py"
  },
  "language_info": {
   "codemirror_mode": {
    "name": "ipython",
    "version": 3
   },
   "file_extension": ".py",
   "mimetype": "text/x-python",
   "name": "python",
   "nbconvert_exporter": "python",
   "pygments_lexer": "ipython3",
   "version": "3.12.7"
  }
 },
 "nbformat": 4,
 "nbformat_minor": 5
}
