{
 "cells": [
  {
   "cell_type": "code",
   "execution_count": 20,
   "id": "a104b0f2-5dad-4e94-96f0-6a099e5c04e1",
   "metadata": {},
   "outputs": [
    {
     "name": "stdout",
     "output_type": "stream",
     "text": [
      "['1', '2', 'Fizz', '4', 'Buzz', 'Fizz', '7', '8', 'Fizz', 'Buzz', '11', 'Fizz', '13', '14', 'Fizzbuzz', '16', '17', 'Fizz', '19', 'Buzz']\n"
     ]
    }
   ],
   "source": [
    "def fizzBuzz(n: int):\n",
    "    return[\n",
    "        'Fizzbuzz' if i%15==0 else 'Fizz' if i%3==0 else 'Buzz' if i%5==0 else str(i)\n",
    "        for i in range(1, n+1)\n",
    "    ]\n",
    "print(fizzBuzz(20))"
   ]
  }
 ],
 "metadata": {
  "kernelspec": {
   "display_name": "Python [conda env:base] *",
   "language": "python",
   "name": "conda-base-py"
  },
  "language_info": {
   "codemirror_mode": {
    "name": "ipython",
    "version": 3
   },
   "file_extension": ".py",
   "mimetype": "text/x-python",
   "name": "python",
   "nbconvert_exporter": "python",
   "pygments_lexer": "ipython3",
   "version": "3.12.7"
  }
 },
 "nbformat": 4,
 "nbformat_minor": 5
}
