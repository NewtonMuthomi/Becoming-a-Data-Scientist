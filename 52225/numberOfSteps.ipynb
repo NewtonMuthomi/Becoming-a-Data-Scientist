{
 "cells": [
  {
   "cell_type": "code",
   "execution_count": 10,
   "id": "dfac8eac-9a99-4ec5-83d4-a8b03b428f2a",
   "metadata": {},
   "outputs": [
    {
     "name": "stdout",
     "output_type": "stream",
     "text": [
      "8\n"
     ]
    }
   ],
   "source": [
    "def numberOfSteps(num: int):\n",
    "    if num == 0:\n",
    "        return 0\n",
    "    elif num%2:\n",
    "        return 1 + numberOfSteps(num//2)\n",
    "    else:\n",
    "        return 1 + numberOfSteps(num-1)\n",
    "print(numberOfSteps(30))"
   ]
  }
 ],
 "metadata": {
  "kernelspec": {
   "display_name": "Python [conda env:base] *",
   "language": "python",
   "name": "conda-base-py"
  },
  "language_info": {
   "codemirror_mode": {
    "name": "ipython",
    "version": 3
   },
   "file_extension": ".py",
   "mimetype": "text/x-python",
   "name": "python",
   "nbconvert_exporter": "python",
   "pygments_lexer": "ipython3",
   "version": "3.12.7"
  }
 },
 "nbformat": 4,
 "nbformat_minor": 5
}
