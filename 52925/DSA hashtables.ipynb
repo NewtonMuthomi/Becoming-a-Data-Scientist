{
 "cells": [
  {
   "cell_type": "code",
   "execution_count": 12,
   "id": "62df49ed-0de5-48f9-8cce-38a904b1d167",
   "metadata": {},
   "outputs": [
    {
     "name": "stdout",
     "output_type": "stream",
     "text": [
      "\"Pete\" is in the Hash set: True\n"
     ]
    }
   ],
   "source": [
    "my_hash_set = [None, 'Jones', None, 'Lisa', None, 'Bob', None, 'Siri', 'Pete', None]\n",
    "\n",
    "def hash_function(value):\n",
    "    sum_of_char = 0\n",
    "    for char in value:\n",
    "        sum_of_char += ord(char)\n",
    "\n",
    "    return sum_of_char % 10\n",
    "\n",
    "\n",
    "def contains(name):\n",
    "    index = hash_function(name)\n",
    "    return my_hash_set[index] == name\n",
    "\n",
    "print('\"Pete\" is in the Hash set:', contains('Pete'))"
   ]
  },
  {
   "cell_type": "code",
   "execution_count": 18,
   "id": "f3fe6286-f5a8-45b7-8d44-353c77f81764",
   "metadata": {},
   "outputs": [
    {
     "name": "stdout",
     "output_type": "stream",
     "text": [
      "[[None], ['Jones'], [None], ['Lisa', 'Stuart'], [None], ['Bob'], [None], ['Siri'], ['Pete'], [None]]\n",
      "Contains Stuart: True\n"
     ]
    }
   ],
   "source": [
    "my_hash_set = [\n",
    "    [None],\n",
    "    ['Jones'],\n",
    "    [None],\n",
    "    ['Lisa'],\n",
    "    [None],\n",
    "    ['Bob'],\n",
    "    [None],\n",
    "    ['Siri'],\n",
    "    ['Pete'],\n",
    "    [None]\n",
    "]\n",
    "\n",
    "def hash_function(value):\n",
    "    return sum(ord(char) for char in value) % 10\n",
    "\n",
    "def add(value):\n",
    "    index = hash_function(value)\n",
    "    bucket = my_hash_set[index]\n",
    "    if value not in bucket:\n",
    "        bucket.append(value)\n",
    "\n",
    "def contains(value):\n",
    "    index = hash_function(value)\n",
    "    bucket = my_hash_set[index]\n",
    "    return value in bucket\n",
    "\n",
    "add('Stuart')\n",
    "\n",
    "print(my_hash_set)\n",
    "print('Contains Stuart:', contains('Stuart'))"
   ]
  }
 ],
 "metadata": {
  "kernelspec": {
   "display_name": "Python [conda env:base] *",
   "language": "python",
   "name": "conda-base-py"
  },
  "language_info": {
   "codemirror_mode": {
    "name": "ipython",
    "version": 3
   },
   "file_extension": ".py",
   "mimetype": "text/x-python",
   "name": "python",
   "nbconvert_exporter": "python",
   "pygments_lexer": "ipython3",
   "version": "3.12.7"
  }
 },
 "nbformat": 4,
 "nbformat_minor": 5
}
