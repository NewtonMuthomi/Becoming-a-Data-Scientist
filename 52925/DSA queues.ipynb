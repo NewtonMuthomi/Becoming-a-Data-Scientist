{
 "cells": [
  {
   "cell_type": "code",
   "execution_count": 10,
   "id": "936f9f10-22c2-4f1f-828d-3cc329bb2bd4",
   "metadata": {},
   "outputs": [
    {
     "name": "stdout",
     "output_type": "stream",
     "text": [
      "Queue: ['A', 'B', 'C']\n",
      "Dequeue(FIFO): A\n",
      "Peek: B\n",
      "isEmpty: None\n",
      "Size: 2\n"
     ]
    }
   ],
   "source": [
    "class Queue:\n",
    "    def __init__(self):\n",
    "        self.queue = []\n",
    "\n",
    "    def enqueue(self, element):\n",
    "        self.queue.append(element)\n",
    "\n",
    "    def dequeue(self):\n",
    "        if self.isEmpty():\n",
    "            return 'Queue is Empty'\n",
    "        return self.queue.pop(0)\n",
    "\n",
    "    def peek(self):\n",
    "        if self.isEmpty():\n",
    "            return 'Queue is Empty'\n",
    "        return self.queue[0]\n",
    "\n",
    "    def isEmpty(self):\n",
    "        if len(self.queue) == 0:\n",
    "            return True\n",
    "\n",
    "    def queueSize(self):\n",
    "        return len(self.queue)\n",
    "\n",
    "myQueue = Queue()\n",
    "\n",
    "myQueue.enqueue('A')\n",
    "myQueue.enqueue('B')\n",
    "myQueue.enqueue('C')\n",
    "\n",
    "print('Queue:', myQueue.queue)\n",
    "print('Dequeue(FIFO):', myQueue.dequeue())\n",
    "print('Peek:', myQueue.peek())\n",
    "print('isEmpty:', myQueue.isEmpty())\n",
    "print('Size:', myQueue.queueSize())"
   ]
  },
  {
   "cell_type": "code",
   "execution_count": 38,
   "id": "fc0b1f30-d71a-4246-9a17-fbc28f04d94d",
   "metadata": {},
   "outputs": [
    {
     "name": "stdout",
     "output_type": "stream",
     "text": [
      "Queue: A->B->C->null\n",
      "Dequeue:  A\n",
      "Peek:  B\n",
      "isEmpty:  False\n",
      "Size:  2\n"
     ]
    }
   ],
   "source": [
    "class Node:\n",
    "    def __init__(self, data):\n",
    "        self.data = data\n",
    "        self.next = None\n",
    "        \n",
    "class Queue:\n",
    "    def __init__(self):\n",
    "        self.front = None\n",
    "        self.rear = None\n",
    "        self.length = 0\n",
    "\n",
    "    def enQueue(self, element):\n",
    "        new_node = Node(element)\n",
    "        if self.rear is None:\n",
    "            self.front = self.rear = new_node\n",
    "            self.length += 1\n",
    "            return\n",
    "        self.rear.next = new_node\n",
    "        self.rear = new_node\n",
    "        self.length += 1\n",
    "        \n",
    "    def deQueue(self):\n",
    "        if self.isEmpty():\n",
    "            return 'Queue is Empty'\n",
    "        temp = self.front\n",
    "        self.front = temp.next\n",
    "        self.length -= 1\n",
    "        if self.front is None:\n",
    "            self.rear = None\n",
    "        return temp.data\n",
    "\n",
    "    def peek(self):\n",
    "        if self.isEmpty():\n",
    "            return 'Queue is Empty'\n",
    "        return self.front.data\n",
    "\n",
    "    def isEmpty(self):\n",
    "        return self.length == 0\n",
    "\n",
    "    def size(self):\n",
    "        return self.length\n",
    "\n",
    "    def printQueue(self):\n",
    "        temp = self.front\n",
    "        while temp:\n",
    "            print(temp.data , end='->')\n",
    "            temp = temp.next\n",
    "        print('null')\n",
    "\n",
    "myQueue = Queue()\n",
    "\n",
    "myQueue.enQueue('A')\n",
    "myQueue.enQueue('B')\n",
    "myQueue.enQueue('C')\n",
    "print(\"Queue: \", end=\"\")\n",
    "myQueue.printQueue()\n",
    "\n",
    "print(\"Dequeue: \", myQueue.deQueue())\n",
    "\n",
    "print(\"Peek: \", myQueue.peek())\n",
    "\n",
    "print(\"isEmpty: \", myQueue.isEmpty())\n",
    "\n",
    "print(\"Size: \", myQueue.size())"
   ]
  }
 ],
 "metadata": {
  "kernelspec": {
   "display_name": "Python [conda env:base] *",
   "language": "python",
   "name": "conda-base-py"
  },
  "language_info": {
   "codemirror_mode": {
    "name": "ipython",
    "version": 3
   },
   "file_extension": ".py",
   "mimetype": "text/x-python",
   "name": "python",
   "nbconvert_exporter": "python",
   "pygments_lexer": "ipython3",
   "version": "3.12.7"
  }
 },
 "nbformat": 4,
 "nbformat_minor": 5
}
