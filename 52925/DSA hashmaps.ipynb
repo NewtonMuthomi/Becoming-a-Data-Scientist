{
 "cells": [
  {
   "cell_type": "code",
   "execution_count": 22,
   "id": "74f341be-8d68-4637-bcb2-f56cce5fe6da",
   "metadata": {},
   "outputs": [
    {
     "name": "stdout",
     "output_type": "stream",
     "text": [
      "Hash Map Contents:\n",
      "Bucket 0: []\n",
      "Bucket 1: [('123-4672', 'Adele'), ('123-4573', 'Michaela')]\n",
      "Bucket 2: []\n",
      "Bucket 3: []\n",
      "Bucket 4: [('123-4567', 'Charlotte'), ('123-6574', 'Bob')]\n",
      "Bucket 5: [('123-4568', 'Thomas')]\n",
      "Bucket 6: [('123-4569', 'Jens')]\n",
      "Bucket 7: []\n",
      "Bucket 8: [('123-4570', 'Peter')]\n",
      "Bucket 9: [('123-4571', 'Lisa')]\n",
      "\n",
      "Is Newton in the hash map? Value not available\n"
     ]
    }
   ],
   "source": [
    "class SimpleHashMap:\n",
    "    def __init__(self, size=100):\n",
    "        self.size = size\n",
    "        self.buckets = [[] for _ in range(size)]\n",
    "\n",
    "    def hash_function(self, key):\n",
    "        numeric_sum = sum(ord(char) for char in key if char.isdigit())\n",
    "        return numeric_sum % 10\n",
    "\n",
    "    def put(self, key, value):\n",
    "        index = self.hash_function(key)\n",
    "        bucket = self.buckets[index]\n",
    "        for i, (k, v) in enumerate(bucket):\n",
    "            if k == key:\n",
    "                bucket[i] = (key, value)\n",
    "                return\n",
    "        bucket.append((key, value))\n",
    "\n",
    "    def get(self, key):\n",
    "        index = self.hash_function(key)\n",
    "        bucket = self.buckets[index]\n",
    "\n",
    "        for k,v in bucket:\n",
    "            if k == key:\n",
    "                return v\n",
    "        return 'Value not available'\n",
    "    \n",
    "    def remove(self, key):\n",
    "        index = self.harsh_function(key)\n",
    "        bucket = self.buckets(index)\n",
    "        for i, (k, v) in enumerate(bucket):\n",
    "            if k == key:\n",
    "                del bucket[i]\n",
    "                return\n",
    "\n",
    "    def print_map(self):\n",
    "        print('Hash Map Contents:')\n",
    "        for index, bucket in enumerate(self.buckets):\n",
    "            print(f'Bucket {index}: {bucket}')\n",
    "\n",
    "hash_map = SimpleHashMap(size=10)\n",
    "\n",
    "hash_map.put(\"123-4567\", \"Charlotte\")\n",
    "hash_map.put(\"123-4568\", \"Thomas\")\n",
    "hash_map.put(\"123-4569\", \"Jens\")\n",
    "hash_map.put(\"123-4570\", \"Peter\")\n",
    "hash_map.put(\"123-4571\", \"Lisa\")\n",
    "hash_map.put(\"123-4672\", \"Adele\")\n",
    "hash_map.put(\"123-4573\", \"Michaela\")\n",
    "hash_map.put(\"123-6574\", \"Bob\")\n",
    "\n",
    "hash_map.print_map()\n",
    "\n",
    "print('\\nIs Newton in the hash map?', hash_map.get('123-5891'))\n",
    "    "
   ]
  }
 ],
 "metadata": {
  "kernelspec": {
   "display_name": "Python [conda env:base] *",
   "language": "python",
   "name": "conda-base-py"
  },
  "language_info": {
   "codemirror_mode": {
    "name": "ipython",
    "version": 3
   },
   "file_extension": ".py",
   "mimetype": "text/x-python",
   "name": "python",
   "nbconvert_exporter": "python",
   "pygments_lexer": "ipython3",
   "version": "3.12.7"
  }
 },
 "nbformat": 4,
 "nbformat_minor": 5
}
