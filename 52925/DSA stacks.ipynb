{
 "cells": [
  {
   "cell_type": "code",
   "execution_count": 28,
   "id": "4cbbdfa4-9cdb-4a59-b860-9db73415b5c8",
   "metadata": {},
   "outputs": [
    {
     "name": "stdout",
     "output_type": "stream",
     "text": [
      "Stack: ['A', 'B', 'C', 'D']\n",
      "Pop: D\n",
      "Peek: C\n",
      "isEmpty: False\n",
      "Size: 3\n"
     ]
    }
   ],
   "source": [
    "class Stack:\n",
    "    def __init__(self):\n",
    "        self.stack = []\n",
    "\n",
    "    def push(self, element):\n",
    "        self.stack.append(element)\n",
    "    \n",
    "    def pop(self):\n",
    "        if self.isEmpty():\n",
    "            return 'Stack is Empty'\n",
    "        return self.stack.pop()\n",
    "    \n",
    "    def peek(self):\n",
    "        if self.isEmpty():\n",
    "            return 'Stack is Empty'\n",
    "        return self.stack[-1]\n",
    "    \n",
    "    def isEmpty(self):\n",
    "        return len(self.stack) == 0\n",
    "    \n",
    "    def size(self):\n",
    "        return len(self.stack)\n",
    "\n",
    "\n",
    "myStack = Stack()\n",
    "\n",
    "myStack.push('A')\n",
    "myStack.push('B')\n",
    "myStack.push('C')\n",
    "myStack.push('D')\n",
    "print('Stack:', myStack.stack)\n",
    "\n",
    "print('Pop:', myStack.pop())\n",
    "\n",
    "print('Peek:', myStack.peek())\n",
    "\n",
    "print('isEmpty:', myStack.isEmpty())\n",
    "\n",
    "print('Size:', myStack.size())\n",
    "\n"
   ]
  },
  {
   "cell_type": "code",
   "execution_count": 59,
   "id": "509b1440-b9b1-4e69-a088-0fd75fc05402",
   "metadata": {},
   "outputs": [
    {
     "name": "stdout",
     "output_type": "stream",
     "text": [
      "Stack(top to bottom): ['C', 'B', 'A']\n",
      "Pop: C\n",
      "Peek: B\n",
      "isEmpty: False\n",
      "Size: 2\n"
     ]
    }
   ],
   "source": [
    "class Node:\n",
    "    def __init__(self, data):\n",
    "        self.data = data\n",
    "        self.next = None\n",
    "\n",
    "class Stack:\n",
    "    def __init__(self):\n",
    "        self.head = None\n",
    "        self.size = 0\n",
    "\n",
    "    def push(self, data):\n",
    "        new_node = Node(data)\n",
    "        if self.head:\n",
    "            new_node.next = self.head\n",
    "        self.head = new_node\n",
    "        self.size += 1\n",
    "\n",
    "    def printStack(self):\n",
    "        currentNode = self.head\n",
    "        elements = []\n",
    "        while currentNode:\n",
    "            elements.append(currentNode.data)\n",
    "            currentNode = currentNode.next\n",
    "        return elements\n",
    "\n",
    "    def pop(self):\n",
    "        if self.isEmpty():\n",
    "            return 'Stack is empty'\n",
    "        popped_node = self.head\n",
    "        self.head = self.head.next\n",
    "        self.size -=1\n",
    "        return popped_node.data\n",
    "\n",
    "    def peek(self):\n",
    "        if self.isEmpty():\n",
    "            return 'Stack is empty'\n",
    "        return self.head.data\n",
    "\n",
    "    def isEmpty(self):\n",
    "        return self.size == 0\n",
    "\n",
    "    def stackSize(self):\n",
    "        return self.size\n",
    "\n",
    "myStack = Stack()\n",
    "myStack.push('A')\n",
    "myStack.push('B')\n",
    "myStack.push('C')\n",
    "print('Stack(top to bottom):', myStack.printStack())\n",
    "\n",
    "print('Pop:', myStack.pop())\n",
    "print('Peek:', myStack.peek())\n",
    "print('isEmpty:', myStack.isEmpty())\n",
    "print('Size:', myStack.stackSize())\n"
   ]
  }
 ],
 "metadata": {
  "kernelspec": {
   "display_name": "Python [conda env:base] *",
   "language": "python",
   "name": "conda-base-py"
  },
  "language_info": {
   "codemirror_mode": {
    "name": "ipython",
    "version": 3
   },
   "file_extension": ".py",
   "mimetype": "text/x-python",
   "name": "python",
   "nbconvert_exporter": "python",
   "pygments_lexer": "ipython3",
   "version": "3.12.7"
  }
 },
 "nbformat": 4,
 "nbformat_minor": 5
}
