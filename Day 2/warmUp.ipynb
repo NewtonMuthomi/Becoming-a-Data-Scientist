{
 "cells": [
  {
   "cell_type": "code",
   "execution_count": 28,
   "id": "3b8b8e4a-864e-4428-a46a-cc66db7daba2",
   "metadata": {},
   "outputs": [
    {
     "name": "stdout",
     "output_type": "stream",
     "text": [
      "[[1 1 1 1 1]\n",
      " [1 1 1 1 1]\n",
      " [1 1 1 1 1]\n",
      " [1 1 1 1 1]\n",
      " [1 1 1 1 1]]\n",
      "[[1 1 1 1 1]\n",
      " [1 0 0 0 1]\n",
      " [1 0 0 0 1]\n",
      " [1 0 0 0 1]\n",
      " [1 1 1 1 1]]\n",
      "[[1 1 1 1 1]\n",
      " [1 0 0 0 1]\n",
      " [1 0 9 0 1]\n",
      " [1 0 0 0 1]\n",
      " [1 1 1 1 1]]\n"
     ]
    }
   ],
   "source": [
    "#Import libraries\n",
    "import numpy as np \n",
    "\n",
    "#Test One\n",
    "#create an all ones matrix\n",
    "arr = np.ones([5,5], dtype = int)\n",
    "print(arr) \n",
    "\n",
    "#modify the array\n",
    "arr[1:4, 1:4] = np.zeros([3,3])\n",
    "print(arr)\n",
    "\n",
    "arr[2,2] = 9\n",
    "print(arr)\n"
   ]
  },
  {
   "cell_type": "code",
   "execution_count": 145,
   "id": "d66e9ba8-7f2c-4b6c-855e-7f8dbf9c3e1b",
   "metadata": {},
   "outputs": [
    {
     "name": "stdout",
     "output_type": "stream",
     "text": [
      "[ 1  2  3  4  5  6  7  8  9 10 11 12 13 14 15 16 17 18 19 20 21 22 23 24\n",
      " 25 26 27 28 29 30]\n",
      "[[ 1  2  3  4  5]\n",
      " [ 6  7  8  9 10]\n",
      " [11 12 13 14 15]\n",
      " [16 17 18 19 20]\n",
      " [21 22 23 24 25]\n",
      " [26 27 28 29 30]]\n",
      "[[11 12]\n",
      " [16 17]]\n",
      "[[31 32]\n",
      " [33 34]]\n",
      "[[ 1  2  3  4  5]\n",
      " [ 6  7  8  9 10]\n",
      " [31 32 13 14 15]\n",
      " [33 34 18 19 20]\n",
      " [21 22 23 24 25]\n",
      " [26 27 28 29 30]]\n"
     ]
    }
   ],
   "source": [
    "#Test Two\n",
    "#create an array of numbers in a particular order\n",
    "arr = np.arange(1, 31)\n",
    "print(arr)\n",
    "\n",
    "#reshape the array\n",
    "arr = arr.reshape(6,5)\n",
    "print(arr)\n",
    "\n",
    "#index 'arr2'\n",
    "arr2 = arr[2:4, 0:2]\n",
    "print(arr2)\n",
    "\n",
    "#modify 'arr2'\n",
    "arr2 = np.array([31,32,33,34])\n",
    "arr2 = arr2.reshape(2,2)\n",
    "print(arr2)\n",
    "\n",
    "arr[2:4, 0:2] = arr2\n",
    "print(arr)"
   ]
  },
  {
   "cell_type": "code",
   "execution_count": 173,
   "id": "a2650e67-f6d4-4143-a8b1-adfbef43a2e4",
   "metadata": {},
   "outputs": [
    {
     "name": "stdout",
     "output_type": "stream",
     "text": [
      "[ 1  2  3  4  5  6  7  8  9 10 11 12 13 14 15 16 17 18 19 20 21 22 23 24\n",
      " 25 26 27 28 29 30]\n",
      "[[ 1  2  3  4  5]\n",
      " [ 6  7  8  9 10]\n",
      " [11 12 13 14 15]\n",
      " [16 17 18 19 20]\n",
      " [21 22 23 24 25]\n",
      " [26 27 28 29 30]]\n",
      "[ 2  8 14 20]\n",
      "[ 4 16 28 40]\n",
      "[[ 1  4  3  4  5]\n",
      " [ 6  7 16  9 10]\n",
      " [11 12 13 28 15]\n",
      " [16 17 18 19 40]\n",
      " [21 22 23 24 25]\n",
      " [26 27 28 29 30]]\n"
     ]
    }
   ],
   "source": [
    "#Test Three\n",
    "#create an array of numbers in a particular order\n",
    "arr = np.arange(1,31)\n",
    "print(arr)\n",
    "\n",
    "#reshape the array\n",
    "arr = np.reshape(arr, (6,5))\n",
    "print(arr)\n",
    "\n",
    "#index 'arr2'\n",
    "arr2 = arr[[0,1,2,3], [1,2,3,4]]\n",
    "print(arr2)\n",
    "\n",
    "#modify 'arr2'\n",
    "arr2 = arr2 * 2\n",
    "print(arr2)\n",
    "\n",
    "#mask it back into 'arr'\n",
    "arr[[0,1,2,3], [1,2,3,4]] = arr2\n",
    "print(arr)"
   ]
  },
  {
   "cell_type": "code",
   "execution_count": 229,
   "id": "92f31f4f-26f4-4227-a7be-4022a4e9cc98",
   "metadata": {},
   "outputs": [
    {
     "name": "stdout",
     "output_type": "stream",
     "text": [
      "[ 1  2  3  4  5  6  7  8  9 10 11 12 13 14 15 16 17 18 19 20 21 22 23 24\n",
      " 25 26 27 28 29 30 31 32 33 34 35 36 37 38 39 40 41 42 43 44 45 46 47 48\n",
      " 49 50]\n",
      "[[ 1  2  3  4  5  6  7  8  9 10]\n",
      " [11 12 13 14 15 16 17 18 19 20]\n",
      " [21 22 23 24 25 26 27 28 29 30]\n",
      " [31 32 33 34 35 36 37 38 39 40]\n",
      " [41 42 43 44 45 46 47 48 49 50]]\n",
      "[[ 2  3  4  5  6  7  8]\n",
      " [22 23 24 25 26 27 28]\n",
      " [32 33 34 35 36 37 38]]\n",
      "[[   4    9   16   25   36   49   64]\n",
      " [ 484  529  576  625  676  729  784]\n",
      " [1024 1089 1156 1225 1296 1369 1444]]\n",
      "[[   1    4    9   16   25   36   49   64    9   10]\n",
      " [  11   12   13   14   15   16   17   18   19   20]\n",
      " [  21  484  529  576  625  676  729  784   29   30]\n",
      " [  31 1024 1089 1156 1225 1296 1369 1444   39   40]\n",
      " [  41   42   43   44   45   46   47   48   49   50]]\n",
      "[[99 99 99 99 99 99 99]\n",
      " [99 99 99 99 99 99 99]\n",
      " [99 99 99 99 99 99 99]]\n",
      "[[ 1 99 99 99 99 99 99 99  9 10]\n",
      " [11 12 13 14 15 16 17 18 19 20]\n",
      " [21 99 99 99 99 99 99 99 29 30]\n",
      " [31 99 99 99 99 99 99 99 39 40]\n",
      " [41 42 43 44 45 46 47 48 49 50]]\n",
      "[[41 43 45 47 49 51 53]\n",
      " [55 57 59 61 63 65 67]\n",
      " [69 71 73 75 77 79 81]]\n",
      "[[ 1 41 43 45 47 49 51 53  9 10]\n",
      " [11 12 13 14 15 16 17 18 19 20]\n",
      " [21 55 57 59 61 63 65 67 29 30]\n",
      " [31 69 71 73 75 77 79 81 39 40]\n",
      " [41 42 43 44 45 46 47 48 49 50]]\n"
     ]
    }
   ],
   "source": [
    "#Test Four\n",
    "#create an array with ints in order\n",
    "arr = np.arange(1,51)\n",
    "print(arr)\n",
    "\n",
    "#reshape the array\n",
    "arr = np.reshape(arr, (5, 10))\n",
    "print(arr)\n",
    "\n",
    "#index 'arr2'\n",
    "arr2 = arr[[0,2,3], 1:8]\n",
    "print(arr2)\n",
    "\n",
    "#modify it again\n",
    "arr2 = arr2 ** 2\n",
    "print(arr2)\n",
    "\n",
    "arr[[0, 2, 3], 1:8] = arr2\n",
    "print(arr)\n",
    "\n",
    "#modify 'arr2'\n",
    "arr2 = np.full((3,7), 99)\n",
    "print(arr2) \n",
    "\n",
    "arr[[0,2,3], 1:8] = arr2\n",
    "print(arr)\n",
    "\n",
    "#modify it again\n",
    "arr2 = np.arange(41, 83, 2)\n",
    "arr2 = np.reshape(arr2, (3,7))\n",
    "print(arr2)\n",
    "\n",
    "arr[[0,2,3], 1:8] = arr2\n",
    "print(arr)"
   ]
  }
 ],
 "metadata": {
  "kernelspec": {
   "display_name": "Python [conda env:base] *",
   "language": "python",
   "name": "conda-base-py"
  },
  "language_info": {
   "codemirror_mode": {
    "name": "ipython",
    "version": 3
   },
   "file_extension": ".py",
   "mimetype": "text/x-python",
   "name": "python",
   "nbconvert_exporter": "python",
   "pygments_lexer": "ipython3",
   "version": "3.12.7"
  }
 },
 "nbformat": 4,
 "nbformat_minor": 5
}
