{
 "cells": [
  {
   "cell_type": "code",
   "execution_count": 13,
   "id": "a7900ff8-bfe7-4d30-9948-fdfebb4e840f",
   "metadata": {},
   "outputs": [
    {
     "name": "stdout",
     "output_type": "stream",
     "text": [
      "[1 2 3]\n",
      "The datatype of the new array is: int16\n"
     ]
    }
   ],
   "source": [
    "#import numpy\n",
    "import numpy as np\n",
    "\n",
    "#converting datatypes \n",
    "arr = np.array([1.1, 2.2, 3.3])\n",
    "newarr = arr.astype(\"i2\")#defines the size too\n",
    "print(newarr)\n",
    "print(\"The datatype of the new array is:\", newarr.dtype)"
   ]
  },
  {
   "cell_type": "code",
   "execution_count": 29,
   "id": "81efb19e-3cdb-4ff7-a3f4-6534ea16c2e5",
   "metadata": {},
   "outputs": [
    {
     "name": "stdout",
     "output_type": "stream",
     "text": [
      "[ True False  True]\n",
      "Zero is False\n"
     ]
    }
   ],
   "source": [
    "import numpy as np\n",
    "\n",
    "arr = np.array([-1, 0, 1])\n",
    "newarr = arr.astype(bool)\n",
    "print(newarr)\n",
    "print(\"Zero is False\")"
   ]
  },
  {
   "cell_type": "code",
   "execution_count": 45,
   "id": "9a20aa7e-259c-4d60-b20a-b8e4197998ac",
   "metadata": {},
   "outputs": [
    {
     "name": "stdout",
     "output_type": "stream",
     "text": [
      "[42  2  3  4]\n",
      "[1 2 3 4]\n",
      "Copy is not affected by changes to the array\n",
      "\n",
      "[32  2  3  4]\n",
      "[32  2  3  4]\n",
      "View is affected by changes to the array\n",
      "\n",
      "[34  2  3  4]\n",
      "[34  2  3  4]\n",
      "Array is affected by changes to the view\n"
     ]
    }
   ],
   "source": [
    "#Copy vs View\n",
    "\n",
    "import numpy as np\n",
    "\n",
    "#Making changes to the array to see if the copy will be affected\n",
    "arr = np.array([1,2,3,4])\n",
    "newarr = arr.copy()\n",
    "arr[0] = 42\n",
    "\n",
    "print(arr)\n",
    "print(newarr)\n",
    "print(\"Copy is not affected by changes to the array\")\n",
    "print()\n",
    "\n",
    "#Making changes to the array to see if the view will be affected \n",
    "arr2 = np.array([1,2,3,4])\n",
    "newarr2 = arr2.view()\n",
    "arr2[0] = 32\n",
    "\n",
    "print(arr2)\n",
    "print(newarr2)\n",
    "print(\"View is affected by changes to the array\")\n",
    "print()\n",
    "\n",
    "#Making changes to the view to see if the array will be affected\n",
    "arr3 = np.array([1,2,3,4])\n",
    "newarr3 = arr3.view()\n",
    "newarr3[0] = 34\n",
    "\n",
    "print(arr3)\n",
    "print(newarr3)\n",
    "print(\"Array is affected by changes to the view\")"
   ]
  },
  {
   "cell_type": "code",
   "execution_count": 63,
   "id": "eae55e0d-470b-4357-8fc4-cc902300d1dc",
   "metadata": {},
   "outputs": [
    {
     "name": "stdout",
     "output_type": "stream",
     "text": [
      "None \n",
      " Copy owns the data\n",
      "\n",
      "[1 2 3 4] \n",
      " View doesn't own the data\n"
     ]
    }
   ],
   "source": [
    "#Checking if an array owns its data or not\n",
    "\n",
    "import numpy as np\n",
    "\n",
    "arr = np.array([1,2,3,4])\n",
    "\n",
    "x = arr.copy()\n",
    "y = arr.view()\n",
    "\n",
    "print(x.base, \"\\n Copy owns the data\")\n",
    "print()\n",
    "print(y.base, \"\\n View doesn't own the data\")"
   ]
  },
  {
   "cell_type": "code",
   "execution_count": 57,
   "id": "97e0ad92-070e-45e5-aa48-e420b7d01e6a",
   "metadata": {},
   "outputs": [
    {
     "name": "stdout",
     "output_type": "stream",
     "text": [
      "(2, 3) \n",
      "Signifies the array has two dimensions. The first dimension has two elements and the second dimension has three elements.\n",
      "\n",
      "(1, 1, 1, 1, 4)\n"
     ]
    }
   ],
   "source": [
    "#Shape of an array\n",
    "\n",
    "import numpy as np\n",
    "arr = np.array([[1,2,3], [4,5,6]])\n",
    "print(arr.shape, \"\\n Signifies the array has two dimensions. The first dimension has two elements and the second dimension has three elements.\")\n",
    "print()\n",
    "\n",
    "arr2 = np.array([1,2,3,4], ndmin = 5)\n",
    "print(arr2.shape)"
   ]
  },
  {
   "cell_type": "code",
   "execution_count": 73,
   "id": "7b28fd2a-b9e6-462e-a5a3-4af2e3a7602b",
   "metadata": {},
   "outputs": [
    {
     "name": "stdout",
     "output_type": "stream",
     "text": [
      "[ 1  2  3  4  5  6  7  8  9 10 11 12]\n",
      "\n",
      "[[[ 1  2]\n",
      "  [ 3  4]]\n",
      "\n",
      " [[ 5  6]\n",
      "  [ 7  8]]\n",
      "\n",
      " [[ 9 10]\n",
      "  [11 12]]]\n",
      "\n",
      "[ 1  2  3  4  5  6  7  8  9 10 11 12] \n",
      " Returns the original array so it's a view.\n"
     ]
    }
   ],
   "source": [
    "#Reshaping arrays\n",
    "\n",
    "import numpy as np\n",
    "\n",
    "#reshape a 1d to 3d\n",
    "arr = np.arange(1, 13)\n",
    "newarr= arr.reshape(3,2,2)\n",
    "\n",
    "print(arr)\n",
    "print()\n",
    "print(newarr)\n",
    "print()\n",
    "print(newarr.base, \"\\n Returns the original array so it's a view.\")\n"
   ]
  },
  {
   "cell_type": "code",
   "execution_count": 87,
   "id": "2fecd7fa-20b6-478b-9870-ae8e87508357",
   "metadata": {},
   "outputs": [
    {
     "name": "stdout",
     "output_type": "stream",
     "text": [
      "[[[1 2]\n",
      "  [3 4]]\n",
      "\n",
      " [[5 6]\n",
      "  [7 8]]]\n"
     ]
    }
   ],
   "source": [
    "#Unknown Array\n",
    "\n",
    "import numpy as np\n",
    "\n",
    "arr = np.arange(1, 9)\n",
    "newarr = arr.reshape(2,2,-1)\n",
    "print(newarr)"
   ]
  },
  {
   "cell_type": "code",
   "execution_count": 93,
   "id": "a6d863b7-3fdd-4260-a04e-08d84e04ac69",
   "metadata": {},
   "outputs": [
    {
     "name": "stdout",
     "output_type": "stream",
     "text": [
      "[[[1 2 3]\n",
      "  [4 5 6]\n",
      "  [7 8 9]]]\n",
      "\n",
      "[1 2 3 4 5 6 7 8 9] \n",
      " Converts a multidimensional array to 1D\n"
     ]
    }
   ],
   "source": [
    "#Flattening the array\n",
    "\n",
    "import numpy as np\n",
    "arr = np.array([[[1,2,3], [4,5,6], [7,8,9]]])\n",
    "newarr = arr.reshape(-1)\n",
    "print(arr)\n",
    "print()\n",
    "print(newarr, \"\\n Converts a multidimensional array to 1D\")"
   ]
  }
 ],
 "metadata": {
  "kernelspec": {
   "display_name": "Python [conda env:base] *",
   "language": "python",
   "name": "conda-base-py"
  },
  "language_info": {
   "codemirror_mode": {
    "name": "ipython",
    "version": 3
   },
   "file_extension": ".py",
   "mimetype": "text/x-python",
   "name": "python",
   "nbconvert_exporter": "python",
   "pygments_lexer": "ipython3",
   "version": "3.12.7"
  }
 },
 "nbformat": 4,
 "nbformat_minor": 5
}
