{
 "cells": [
  {
   "cell_type": "code",
   "execution_count": 28,
   "id": "88e43bda-0f86-4a9c-be2e-93f24d243b01",
   "metadata": {},
   "outputs": [
    {
     "name": "stdout",
     "output_type": "stream",
     "text": [
      "[11 89 43 14 83 68 54 46 63 69 49 36 85 36 93 68 23 69 56 66]\n",
      "Lowest value: 11\n"
     ]
    }
   ],
   "source": [
    "#Finding the lowest value in an array\n",
    "#Go through the values in the array one by one.\n",
    "#Check if the current value is the lowest so far and if it is, store it.\n",
    "#After looking at all the values, the stored value will be the lowest of all values in the array\n",
    "\n",
    "import numpy as np\n",
    "\n",
    "listed_array = np.random.randint(1,100, 20)\n",
    "print(listed_array)\n",
    "\n",
    "# Variable 'minVal' = array[0]\n",
    "# For each element in the array \n",
    "#     If the current element < minVal\n",
    "#         minVal = current element\n",
    "\n",
    "minVal = listed_array[0]\n",
    "for num in listed_array:\n",
    "    if num < minVal:\n",
    "        minVal=num\n",
    "\n",
    "print('Lowest value:', minVal)"
   ]
  },
  {
   "cell_type": "code",
   "execution_count": 68,
   "id": "8e76a560-460d-479c-b187-9b84d2f93a8d",
   "metadata": {},
   "outputs": [
    {
     "name": "stdout",
     "output_type": "stream",
     "text": [
      "Original array: [64, 34, 25, 5, 22, 11, 90, 12]\n",
      "Sorted Array:   [5, 11, 12, 22, 25, 34, 64, 90]\n"
     ]
    }
   ],
   "source": [
    "# Bubble Sort Algorithm\n",
    "\n",
    "# n <= lenght of array\n",
    "# for i in n-1:\n",
    "#     for j in n-i-1:\n",
    "#         if n[j] > n[j+1]:\n",
    "#             swap them\n",
    "\n",
    "myArr = [64,34,25,5,22,11,90,12]\n",
    "print('Original array:', myArr)\n",
    "\n",
    "n = len(myArr)\n",
    "for i in range(n-1):\n",
    "    swapped = False\n",
    "    for j in range(n-i-1):\n",
    "        if myArr[j] > myArr[j+1]:\n",
    "            myArr[j], myArr[j+1] = myArr[j+1], myArr[j]\n",
    "            swapped = True\n",
    "    if not swapped:\n",
    "        break\n",
    "        \n",
    "print('Sorted Array:  ', myArr)"
   ]
  },
  {
   "cell_type": "code",
   "execution_count": 62,
   "id": "51221c12-8394-4504-b1d2-392b462caa84",
   "metadata": {},
   "outputs": [
    {
     "name": "stdout",
     "output_type": "stream",
     "text": [
      "Original Array: [64, 34, 25, 5, 22, 11, 90, 12]\n",
      "Sorted Array:   [5, 11, 12, 22, 25, 34, 64, 90]\n"
     ]
    }
   ],
   "source": [
    "# Selection Sort Algorithm\n",
    "\n",
    "myArr = [64,34,25,5,22,11,90,12]\n",
    "print('Original Array:', myArr)\n",
    "\n",
    "n = len(myArr)\n",
    "for i in range(n-1):\n",
    "    min_index = i\n",
    "    for j in range(i+1, n):\n",
    "        if myArr[j] < myArr[min_index]:\n",
    "            min_index = j\n",
    "    myArr[i], myArr[min_index] = myArr[min_index], myArr[i]\n",
    "\n",
    "print('Sorted Array:  ', myArr)   "
   ]
  },
  {
   "cell_type": "code",
   "execution_count": 76,
   "id": "9e93216a-29fe-4ff8-80e3-0497c54a1dd0",
   "metadata": {},
   "outputs": [
    {
     "name": "stdout",
     "output_type": "stream",
     "text": [
      "Original Array: [64, 34, 25, 5, 22, 11, 90, 12]\n",
      "Sorted Array:   [5, 11, 12, 22, 25, 34, 64, 90]\n"
     ]
    }
   ],
   "source": [
    "# Insertion Sort Algorithm\n",
    "\n",
    "myArr = [64,34,25,5,22,11,90,12]\n",
    "print('Original Array:', myArr)\n",
    "\n",
    "n=len(myArr)\n",
    "for i in range(1, n):\n",
    "    insert_index = i\n",
    "    current_value = myArr[i]\n",
    "    for j in range(i-1, -1, -1):\n",
    "        if myArr[j] > current_value:\n",
    "            myArr[j+1] = myArr[j]\n",
    "            insert_index = j\n",
    "        else:\n",
    "            break\n",
    "    myArr[insert_index] = current_value\n",
    "    \n",
    "print('Sorted Array:  ', myArr)"
   ]
  },
  {
   "cell_type": "code",
   "execution_count": 96,
   "id": "d3d0d916-cbbe-431b-9ea2-a9cd7a72fe61",
   "metadata": {},
   "outputs": [
    {
     "name": "stdout",
     "output_type": "stream",
     "text": [
      "Sorted array: [5, 11, 12, 22, 25, 34, 64, 90]\n"
     ]
    }
   ],
   "source": [
    "# Quick Sort Algorithm\n",
    "\n",
    "def partition(array, low, high):\n",
    "    pivot = array[high]\n",
    "    # print(f'\\n Pivot chosen: {pivot}(from index{high})')\n",
    "    i = low - 1\n",
    "\n",
    "    for j in range(low, high):\n",
    "        # print(f'Comparing {array[j]} with pivot {pivot}')\n",
    "        if array[j] <= pivot:\n",
    "            i += 1\n",
    "            array[i], array[j] = array[j], array[i]\n",
    "            # print(f'Swapped: {array[i]} with {array[j]} -> {array}')\n",
    "\n",
    "    array[i+1], array[high] = array[high], array[i+1]\n",
    "    # print(f'Placing pivot {pivot} at correct position -> {array}')\n",
    "    return i+1\n",
    "\n",
    "def quicksort(array, low=0, high=None):\n",
    "    if high is None:\n",
    "        high = len(array) - 1\n",
    "\n",
    "    if low < high: \n",
    "        # indent = \" \" * depth\n",
    "        # print(f'\\n{indent} Sorting range {array[low:high+1]}')\n",
    "        \n",
    "        pivot_index = partition(array, low, high)\n",
    "        # print(f'{indent}Left of pivot: {array[low:pivot_index]}')\n",
    "        # print(f'{indent}Right of pivot: {array[pivot_index+1:high+1]}')\n",
    "        \n",
    "        quicksort(array, low, pivot_index-1)\n",
    "        quicksort(array, pivot_index+1, high)\n",
    "\n",
    "myArr = [64, 34, 25, 12, 22, 11, 90, 5]\n",
    "quicksort(myArr)\n",
    "print('Sorted array:', myArr)"
   ]
  },
  {
   "cell_type": "code",
   "execution_count": 98,
   "id": "430a6bc5-3960-4440-a6c8-cf28e234ba69",
   "metadata": {},
   "outputs": [
    {
     "name": "stdout",
     "output_type": "stream",
     "text": [
      "Sorted Array: [1, 2, 2, 2, 3, 3, 3, 4, 5, 6, 6]\n"
     ]
    }
   ],
   "source": [
    "# Counting Sort Algorithm\n",
    "\n",
    "def countingSort(arr):\n",
    "    max_val = max(arr)\n",
    "    count = [0] * (max_val + 1)\n",
    "\n",
    "    while len(arr)> 0:\n",
    "        num = arr.pop(0)\n",
    "        count[num] += 1\n",
    "\n",
    "    for i in range(len(count)):\n",
    "        while count[i]> 0:\n",
    "            arr.append(i)\n",
    "            count[i] -= 1\n",
    "\n",
    "    return arr\n",
    "\n",
    "unsortedArr = [4, 2, 2, 6, 3, 3, 1, 6, 5, 2, 3]\n",
    "sortedArr = countingSort(unsortedArr)\n",
    "print('Sorted Array:', sortedArr)"
   ]
  },
  {
   "cell_type": "code",
   "execution_count": 108,
   "id": "9f7c29b5-4ad8-4229-916a-4219ff8ab5a9",
   "metadata": {},
   "outputs": [
    {
     "name": "stdout",
     "output_type": "stream",
     "text": [
      "Sorted array: [2, 24, 45, 66, 75, 90, 170, 802]\n"
     ]
    }
   ],
   "source": [
    "# Radix Sort Algorithm\n",
    "\n",
    "myArr = [170, 45, 75, 90, 802, 24, 2, 66]\n",
    "radixArr = [[],[],[],[],[],[],[],[],[],[]]\n",
    "\n",
    "maxVal = max(myArr)\n",
    "exp = 1\n",
    "\n",
    "while maxVal // exp > 0:\n",
    "    while len(myArr)>0:\n",
    "        val = myArr.pop()\n",
    "        radixIdx = (val//exp)%10\n",
    "        radixArr[radixIdx].append(val)\n",
    "\n",
    "    for bucket in radixArr:\n",
    "        while len(bucket)>0:\n",
    "            val = bucket.pop()\n",
    "            myArr.append(val)\n",
    "\n",
    "    exp *=10\n",
    "\n",
    "print('Sorted array:', myArr)"
   ]
  },
  {
   "cell_type": "code",
   "execution_count": 114,
   "id": "277a773f-c77f-46be-9176-5a254df16095",
   "metadata": {},
   "outputs": [
    {
     "name": "stdout",
     "output_type": "stream",
     "text": [
      "Sorted array: [-13, -10, 3, 6, 7, 15, 23.5, 55]\n"
     ]
    }
   ],
   "source": [
    "# Merge sort Algorithm\n",
    "\n",
    "def mergeSort(arr):\n",
    "    if len(arr) <= 1:\n",
    "        return arr\n",
    "\n",
    "    mid = len(arr) // 2\n",
    "    leftHalf = arr[:mid]\n",
    "    rightHalf = arr[mid:]\n",
    "\n",
    "    sortedLeft = mergeSort(leftHalf)\n",
    "    sortedRight = mergeSort(rightHalf)\n",
    "\n",
    "    return merge(sortedLeft, sortedRight)\n",
    "\n",
    "def merge(left, right):\n",
    "    result = []\n",
    "    i = j = 0\n",
    "\n",
    "    while i < len(left) and j < len(right):\n",
    "        if left[i] < right[j]:\n",
    "            result.append(left[i])\n",
    "            i+=1\n",
    "        else:\n",
    "            result.append(right[j])\n",
    "            j+=1\n",
    "\n",
    "    result.extend(left[i:])\n",
    "    result.extend(right[j:])\n",
    "\n",
    "    return result\n",
    "\n",
    "unsortedArr = [3, 7, 6, -10, 15, 23.5, 55, -13]\n",
    "sortedArr = mergeSort(unsortedArr)\n",
    "print('Sorted array:', sortedArr)"
   ]
  },
  {
   "cell_type": "code",
   "execution_count": 2,
   "id": "66451248-3f7c-412f-a93c-56b514bcc5e9",
   "metadata": {},
   "outputs": [
    {
     "name": "stdout",
     "output_type": "stream",
     "text": [
      "Value 9 found at index: 3\n"
     ]
    }
   ],
   "source": [
    "def linearSearch(arr, targetVal):\n",
    "    for i in range(len(arr)):\n",
    "        if arr[i] == targetVal:\n",
    "            return i\n",
    "    return -1\n",
    "\n",
    "arr = [3,7,2,9,5]\n",
    "targetVal = 9\n",
    "\n",
    "result = linearSearch(arr, targetVal)\n",
    "\n",
    "if result != 0:\n",
    "    print('Value', targetVal, 'found at index:', result)\n",
    "else:\n",
    "    print('Value', targetVal, 'not found.')\n",
    "            "
   ]
  },
  {
   "cell_type": "code",
   "execution_count": 6,
   "id": "13390d48-9e89-4788-83ea-2f0511e478de",
   "metadata": {},
   "outputs": [
    {
     "name": "stdout",
     "output_type": "stream",
     "text": [
      "Value 13 found at index: 6\n"
     ]
    }
   ],
   "source": [
    "def binarySearch(arr, targetVal):\n",
    "    left = 0\n",
    "    right = len(arr)-1\n",
    "\n",
    "    while left <= right:\n",
    "        mid = (left + right)//2\n",
    "\n",
    "        if arr[mid] == targetVal:\n",
    "            return mid\n",
    "\n",
    "        if arr[mid]<targetVal:\n",
    "            left = mid+1\n",
    "        else:\n",
    "            right = mid-1\n",
    "\n",
    "    return -1\n",
    "\n",
    "myArray = [1,3,5,7,9,11,13,15,17,19]\n",
    "myTarget = 13\n",
    "\n",
    "result = binarySearch(myArray, myTarget)\n",
    "\n",
    "if result != -1:\n",
    "    print('Value', myTarget, 'found at index:', result)\n",
    "else:\n",
    "    print('Value', myTarget, 'not found.')"
   ]
  }
 ],
 "metadata": {
  "kernelspec": {
   "display_name": "Python [conda env:base] *",
   "language": "python",
   "name": "conda-base-py"
  },
  "language_info": {
   "codemirror_mode": {
    "name": "ipython",
    "version": 3
   },
   "file_extension": ".py",
   "mimetype": "text/x-python",
   "name": "python",
   "nbconvert_exporter": "python",
   "pygments_lexer": "ipython3",
   "version": "3.12.7"
  }
 },
 "nbformat": 4,
 "nbformat_minor": 5
}
