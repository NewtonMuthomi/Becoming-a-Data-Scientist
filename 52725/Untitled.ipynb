{
 "cells": [
  {
   "cell_type": "code",
   "execution_count": 46,
   "id": "ba472965-ead5-4798-81cc-408bcddb08cd",
   "metadata": {},
   "outputs": [
    {
     "name": "stdout",
     "output_type": "stream",
     "text": [
      "fUN IS cODING\n"
     ]
    }
   ],
   "source": [
    "def reverse_words_order_and_reverse_cases(sentence):\n",
    "    print(' '.join(word.swapcase() for word in sentence.split()[::-1]))\n",
    "\n",
    "reverse_words_order_and_reverse_cases('Coding is Fun')"
   ]
  },
  {
   "cell_type": "code",
   "execution_count": 58,
   "id": "6e93eedc-0e19-44ba-a7a0-113852107098",
   "metadata": {},
   "outputs": [
    {
     "name": "stdout",
     "output_type": "stream",
     "text": [
      "Is not Palindrome\n"
     ]
    }
   ],
   "source": [
    "def Palindrome(words):\n",
    "    if words[::-1] == words:\n",
    "        print('Is Palindrome')\n",
    "    else:\n",
    "        print('Is not Palindrome')\n",
    "\n",
    "Palindrome('words')\n",
    "\n"
   ]
  },
  {
   "cell_type": "code",
   "execution_count": 60,
   "id": "a3aba6a6-1048-48fa-a2b6-8212fc8d9a1a",
   "metadata": {},
   "outputs": [
    {
     "name": "stdout",
     "output_type": "stream",
     "text": [
      "0\n",
      "1\n",
      "1\n",
      "2\n",
      "3\n",
      "5\n",
      "8\n",
      "13\n",
      "21\n",
      "34\n",
      "55\n",
      "89\n",
      "144\n",
      "233\n",
      "377\n",
      "610\n",
      "987\n",
      "1597\n",
      "2584\n",
      "4181\n"
     ]
    }
   ],
   "source": [
    "prev2 = 0\n",
    "prev1 = 1\n",
    "\n",
    "print(prev2)\n",
    "print(prev1)\n",
    "\n",
    "for fibo in range(18):\n",
    "    newFibo = prev1+prev2\n",
    "    print(newFibo)\n",
    "    prev2 = prev1\n",
    "    prev1 = newFibo\n",
    "    "
   ]
  },
  {
   "cell_type": "code",
   "execution_count": 74,
   "id": "98a13990-e0c9-432f-b7ca-eac28ce365c4",
   "metadata": {},
   "outputs": [
    {
     "name": "stdout",
     "output_type": "stream",
     "text": [
      "0\n",
      "1\n",
      "1\n",
      "2\n",
      "3\n",
      "5\n",
      "8\n",
      "13\n",
      "21\n",
      "34\n",
      "55\n",
      "89\n",
      "144\n",
      "233\n",
      "377\n",
      "610\n",
      "987\n",
      "1597\n",
      "2584\n",
      "4181\n"
     ]
    }
   ],
   "source": [
    "print(0)\n",
    "print(1)\n",
    "\n",
    "count = 2\n",
    "\n",
    "def Fibo(prev1, prev2):\n",
    "    global count\n",
    "    if count<=19:\n",
    "        newFibo = prev1+prev2\n",
    "        print(newFibo)\n",
    "        prev2 = prev1\n",
    "        prev1 = newFibo\n",
    "        count += 1\n",
    "        Fibo(prev1, prev2)   \n",
    "    else:\n",
    "        return\n",
    "\n",
    "Fibo(1, 0)"
   ]
  }
 ],
 "metadata": {
  "kernelspec": {
   "display_name": "Python [conda env:base] *",
   "language": "python",
   "name": "conda-base-py"
  },
  "language_info": {
   "codemirror_mode": {
    "name": "ipython",
    "version": 3
   },
   "file_extension": ".py",
   "mimetype": "text/x-python",
   "name": "python",
   "nbconvert_exporter": "python",
   "pygments_lexer": "ipython3",
   "version": "3.12.7"
  }
 },
 "nbformat": 4,
 "nbformat_minor": 5
}
