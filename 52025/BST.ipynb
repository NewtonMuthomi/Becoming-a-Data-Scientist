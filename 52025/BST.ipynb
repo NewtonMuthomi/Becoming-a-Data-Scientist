{
 "cells": [
  {
   "cell_type": "code",
   "execution_count": 3,
   "id": "82e7842b-35fa-4374-a83d-b96147980e1c",
   "metadata": {},
   "outputs": [
    {
     "name": "stdout",
     "output_type": "stream",
     "text": [
      "Inorder Traversal:\n",
      "3 5 7 10 12 15 18 True\n",
      "False\n"
     ]
    }
   ],
   "source": [
    "#Binary Search Tree\n",
    "\n",
    "class TreeNode:\n",
    "    def __init__(self, val):\n",
    "        self.val = val\n",
    "        self.left = None\n",
    "        self.right = None\n",
    "\n",
    "def insert_bst(node, val):\n",
    "    if node is None:\n",
    "        return TreeNode(val)\n",
    "    if val<node.val:\n",
    "        node.left = insert_bst(node.left, val)\n",
    "    else:\n",
    "        node.right = insert_bst(node.right, val)\n",
    "    return node\n",
    "\n",
    "def search_bst(node, target):\n",
    "    if node is None:\n",
    "        return False\n",
    "    if node.val == target:\n",
    "        return True\n",
    "    elif target<node.val:\n",
    "        return search_bst(node.left, target)\n",
    "    else:\n",
    "        return search_bst(node.right, target)\n",
    "        \n",
    "def inOrder_traversal(node):\n",
    "    if node is not None:\n",
    "        inOrder_traversal(node.left)\n",
    "        print(node.val, end=' ')\n",
    "        inOrder_traversal(node.right)\n",
    "\n",
    "def main():\n",
    "    root = None\n",
    "    for value in [10, 5, 15, 3, 7, 12, 18]:\n",
    "        root = insert_bst(root, value)\n",
    "\n",
    "    print('Inorder Traversal:')\n",
    "    inOrder_traversal(root)\n",
    "    print(search_bst(root, 7))\n",
    "    print(search_bst(root, 11))\n",
    "\n",
    "main()"
   ]
  },
  {
   "cell_type": "code",
   "execution_count": 5,
   "id": "6b8c43a5-2465-42ac-af99-ca71d380edb8",
   "metadata": {},
   "outputs": [
    {
     "name": "stdout",
     "output_type": "stream",
     "text": [
      "True\n",
      "False\n"
     ]
    }
   ],
   "source": [
    "#Two sum. Input is a BST\n",
    "\n",
    "from typing import Optional\n",
    "\n",
    "class TreeNode:\n",
    "    def __init__(self, val=0, left=None, right=None):\n",
    "        self.val = val\n",
    "        self.left = left\n",
    "        self.right = right\n",
    "\n",
    "class SolutionOne:\n",
    "    def findTargert(self, root: Optional[TreeNode], k: int):\n",
    "        def inorder(node):\n",
    "            if not node:\n",
    "                return []\n",
    "            return inorder(node.left) + [node.val] + inorder(node.right)\n",
    "\n",
    "        nums = inorder[root]\n",
    "\n",
    "        left, right = 0, len(nums)-1\n",
    "        while left<right:\n",
    "            total = nums[left] + nums[right]\n",
    "            if total == k:\n",
    "                return True\n",
    "            elif total<k:\n",
    "                left += 1\n",
    "            else: \n",
    "                right -= 1\n",
    "        return False\n",
    "        \n",
    "class SolutionTwo:\n",
    "    def findTarget(self, root: Optional[TreeNode], k: int):\n",
    "        seen = set()\n",
    "\n",
    "        def dfs(node):\n",
    "            if not node:\n",
    "                return False\n",
    "            complement = k-node.val\n",
    "            if complement in seen:\n",
    "                return True\n",
    "            seen.add(node.val)\n",
    "            return dfs(node.left) or dfs(node.right)\n",
    "        return dfs(root)\n",
    "\n",
    "def main():\n",
    "    root = TreeNode(5)\n",
    "    root.left = TreeNode(3, TreeNode(2), TreeNode(4))\n",
    "    root.right = TreeNode(6, None, TreeNode(7))\n",
    "\n",
    "    s = SolutionTwo()\n",
    "    print(s.findTarget(root, 9))\n",
    "    print(s.findTarget(root, 28))\n",
    "main()"
   ]
  }
 ],
 "metadata": {
  "kernelspec": {
   "display_name": "Python [conda env:base] *",
   "language": "python",
   "name": "conda-base-py"
  },
  "language_info": {
   "codemirror_mode": {
    "name": "ipython",
    "version": 3
   },
   "file_extension": ".py",
   "mimetype": "text/x-python",
   "name": "python",
   "nbconvert_exporter": "python",
   "pygments_lexer": "ipython3",
   "version": "3.12.7"
  }
 },
 "nbformat": 4,
 "nbformat_minor": 5
}
