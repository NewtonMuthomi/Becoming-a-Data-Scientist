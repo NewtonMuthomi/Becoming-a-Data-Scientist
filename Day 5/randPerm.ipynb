{
 "cells": [
  {
   "cell_type": "code",
   "execution_count": 14,
   "id": "689ea0c9-c447-4d28-9480-b27fed4bffe0",
   "metadata": {},
   "outputs": [
    {
     "name": "stdout",
     "output_type": "stream",
     "text": [
      "[3 0 1 2 4]\n"
     ]
    }
   ],
   "source": [
    "import numpy as np\n",
    "from numpy import random\n",
    "\n",
    "arr = np.arange(5,)\n",
    "random.shuffle(arr)\n",
    "print(arr)\n",
    "#Makes changes to the original array"
   ]
  },
  {
   "cell_type": "code",
   "execution_count": 16,
   "id": "56db1686-033b-44f4-99e1-bd5550777c39",
   "metadata": {},
   "outputs": [
    {
     "name": "stdout",
     "output_type": "stream",
     "text": [
      "[2 1 4 0 3]\n"
     ]
    }
   ],
   "source": [
    "import numpy as np\n",
    "from numpy import random\n",
    "\n",
    "arr = np.arange(5,)\n",
    "print(random.permutation(arr))\n",
    "#Doesn't"
   ]
  }
 ],
 "metadata": {
  "kernelspec": {
   "display_name": "Python [conda env:base] *",
   "language": "python",
   "name": "conda-base-py"
  },
  "language_info": {
   "codemirror_mode": {
    "name": "ipython",
    "version": 3
   },
   "file_extension": ".py",
   "mimetype": "text/x-python",
   "name": "python",
   "nbconvert_exporter": "python",
   "pygments_lexer": "ipython3",
   "version": "3.12.7"
  }
 },
 "nbformat": 4,
 "nbformat_minor": 5
}
