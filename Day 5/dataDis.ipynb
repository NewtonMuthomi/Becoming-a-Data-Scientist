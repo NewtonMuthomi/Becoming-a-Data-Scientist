{
 "cells": [
  {
   "cell_type": "code",
   "execution_count": 19,
   "id": "d76ad69f-6164-48e6-98c9-a0197209153d",
   "metadata": {},
   "outputs": [
    {
     "name": "stdout",
     "output_type": "stream",
     "text": [
      "[[5 5 5 5 5]\n",
      " [5 5 5 5 5]\n",
      " [5 3 3 5 5]]\n",
      "[7 7 7 9 3 3 7 7 7 7 7 7 5 5 7 9 7 3 7 7 5 7 3 7 9 5 5 7 5 3 7 5 3 5 7 7 5\n",
      " 7 3 5 7 7 5 7 7 5 3 7 7 5 3 3 7 9 7 7 7 5 7 3 7 5 9 7 7 9 7 7 5 9 7 7 3 7\n",
      " 5 7 3 7 5 7 9 7 3 5 7 5 9 7 7 5 5 7 5 7 5 7 5 7 9 5]\n"
     ]
    }
   ],
   "source": [
    "from numpy import random\n",
    "x = random.choice([3,5,7], p=[0.1,0.9,0.0], size=(3,5))\n",
    "print(x)\n",
    "\n",
    "y = random.choice([3,5,7,9], p=[0.1,0.3,0.5,0.1], size=(100))\n",
    "print(y)"
   ]
  },
  {
   "cell_type": "code",
   "execution_count": 29,
   "id": "cf349199-4877-4ede-8263-4544d4afc7cb",
   "metadata": {},
   "outputs": [
    {
     "name": "stdout",
     "output_type": "stream",
     "text": [
      "[[1 3 2]\n",
      " [3 1 3]]\n",
      "\n",
      "[[3 1 3]\n",
      " [3 2 2]]\n",
      "\n",
      "[[1 3]\n",
      " [2 3]\n",
      " [1 3]]\n"
     ]
    }
   ],
   "source": [
    "from numpy import random\n",
    "random.seed(12)\n",
    "x = random.choice([1,2,3], p=[0.2,0.3,0.5], size=(2,3))\n",
    "random.seed(10)\n",
    "y = random.choice([1,2,3], p=[0.2,0.3,0.5], size=(2,3))\n",
    "random.seed(12)\n",
    "z = random.choice([1,2,3], p=[0.2,0.3,0.5], size=(3,2))\n",
    "\n",
    "print(x)\n",
    "print()\n",
    "print(y)\n",
    "print()\n",
    "print(z)"
   ]
  }
 ],
 "metadata": {
  "kernelspec": {
   "display_name": "Python [conda env:base] *",
   "language": "python",
   "name": "conda-base-py"
  },
  "language_info": {
   "codemirror_mode": {
    "name": "ipython",
    "version": 3
   },
   "file_extension": ".py",
   "mimetype": "text/x-python",
   "name": "python",
   "nbconvert_exporter": "python",
   "pygments_lexer": "ipython3",
   "version": "3.12.7"
  }
 },
 "nbformat": 4,
 "nbformat_minor": 5
}
