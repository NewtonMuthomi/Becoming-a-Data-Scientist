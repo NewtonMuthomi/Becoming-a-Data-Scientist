{
 "cells": [
  {
   "cell_type": "code",
   "execution_count": 37,
   "id": "a43927e9-1af3-4b7a-aa46-faff6aa9f1ee",
   "metadata": {},
   "outputs": [
    {
     "name": "stdout",
     "output_type": "stream",
     "text": [
      "41\n",
      "0.4476165714874084\n"
     ]
    }
   ],
   "source": [
    "from numpy import random\n",
    "x = random.randint(100)\n",
    "print(x)\n",
    "\n",
    "y = random.rand()\n",
    "print(y)"
   ]
  },
  {
   "cell_type": "code",
   "execution_count": 33,
   "id": "15a46594-0104-4930-b732-3f53c550edf6",
   "metadata": {},
   "outputs": [
    {
     "name": "stdout",
     "output_type": "stream",
     "text": [
      "[92 22  3 84 64]\n",
      "[[26  3 92]\n",
      " [64 92 13]\n",
      " [10 51 32]\n",
      " [67 35  7]\n",
      " [81 74 81]]\n",
      "[0.24570837 0.47875615 0.61269307 0.26623085 0.38010071]\n"
     ]
    }
   ],
   "source": [
    "from numpy import random\n",
    "x = random.randint(100, size=(5))\n",
    "print(x)\n",
    "\n",
    "y = random.randint(100, size=(5,3))\n",
    "print(y)\n",
    "\n",
    "z = random.rand(5)\n",
    "print(z)"
   ]
  },
  {
   "cell_type": "code",
   "execution_count": 41,
   "id": "9a6b6533-240e-47a8-a301-ad7055263714",
   "metadata": {},
   "outputs": [
    {
     "name": "stdout",
     "output_type": "stream",
     "text": [
      "3\n",
      "[[3 5 6 4 3]\n",
      " [6 3 3 5 5]\n",
      " [6 6 5 5 6]]\n"
     ]
    }
   ],
   "source": [
    "from numpy import random\n",
    "x = random.choice([1,2,3,4,5])\n",
    "print(x)\n",
    "\n",
    "y = random.choice([3,4,5,6], size=(3,5))\n",
    "print(y)"
   ]
  }
 ],
 "metadata": {
  "kernelspec": {
   "display_name": "Python [conda env:base] *",
   "language": "python",
   "name": "conda-base-py"
  },
  "language_info": {
   "codemirror_mode": {
    "name": "ipython",
    "version": 3
   },
   "file_extension": ".py",
   "mimetype": "text/x-python",
   "name": "python",
   "nbconvert_exporter": "python",
   "pygments_lexer": "ipython3",
   "version": "3.12.7"
  }
 },
 "nbformat": 4,
 "nbformat_minor": 5
}
