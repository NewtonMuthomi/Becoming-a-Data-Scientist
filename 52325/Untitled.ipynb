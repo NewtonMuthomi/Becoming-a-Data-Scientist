{
 "cells": [
  {
   "cell_type": "code",
   "execution_count": 74,
   "id": "33a30262-fd0c-44c5-bdac-f5191a847b44",
   "metadata": {},
   "outputs": [
    {
     "name": "stdout",
     "output_type": "stream",
     "text": [
      "<class 'list'>\n",
      "['apple', 'banana', 'cherry']\n",
      "['alight']\n",
      "['alight', 'watermelon']\n",
      "['alight', 'watermelon', 'apple', 'banana', 'cherry', 'date', 'enamel']\n",
      "['alight', 'watermelon', 'apple', 'banana', 'cherry', 'date', 'enamel', 'one', 'two', 'three']\n",
      "['alight', 'watermelon', 'apple', 'banana', 'date', 'enamel', 'one', 'two', 'three']\n",
      "['alight', 'watermelon', 'apple', 'banana', 'date', 'enamel', 'one', 'two']\n",
      "['watermelon', 'apple', 'banana', 'date', 'enamel', 'one', 'two']\n",
      "watermelon\n",
      "apple\n",
      "banana\n",
      "date\n",
      "enamel\n",
      "one\n",
      "two\n"
     ]
    },
    {
     "data": {
      "text/plain": [
       "[None, None, None, None, None, None, None]"
      ]
     },
     "execution_count": 74,
     "metadata": {},
     "output_type": "execute_result"
    }
   ],
   "source": [
    "my_list = ['apple', 'banana', 'cherry']\n",
    "print(type(my_list))\n",
    "print(my_list)\n",
    "my_list[:3] = ['alight']\n",
    "print(my_list)\n",
    "my_list.insert(1, 'watermelon')\n",
    "print(my_list)\n",
    "\n",
    "this_is_tuple = ('apple', 'banana', 'cherry', 'date', 'enamel')\n",
    "my_list.extend(this_is_tuple)\n",
    "print(my_list)\n",
    "thisDictionary = {\n",
    "    'one': 1,\n",
    "    'two': 2,\n",
    "    'three': 3\n",
    "}\n",
    "my_list.extend(thisDictionary)\n",
    "print(my_list)\n",
    "my_list.pop(4)\n",
    "print(my_list)\n",
    "my_list.pop()\n",
    "print(my_list)\n",
    "del my_list[0]\n",
    "print(my_list)\n",
    "\n",
    "\n",
    "i=0\n",
    "while i<len(my_list):\n",
    "    print(my_list[i])\n",
    "    i+=1"
   ]
  },
  {
   "cell_type": "code",
   "execution_count": 92,
   "id": "67da8fa2-c817-4ce4-8128-07c5af8011fe",
   "metadata": {},
   "outputs": [
    {
     "name": "stdout",
     "output_type": "stream",
     "text": [
      "['apples', 'bananas', 'mangos']\n",
      "['apples', 'kiwis', 'bananas', 'mangos', 'cherries']\n",
      "['apples', 'watermelons', 'bananas', 'mangos', 'cherries']\n",
      "['watermelons', 'mangos', 'cherries', 'bananas', 'apples']\n"
     ]
    }
   ],
   "source": [
    "myList = ['apples', 'kiwis', 'bananas', 'mangos', 'cherries']\n",
    "newList = [x for x in myList if 'a' in x]\n",
    "print(newList)\n",
    "newList = [x for x in myList]\n",
    "print(newList)\n",
    "newList = [x if x != 'kiwis' else 'watermelons' for x in myList]\n",
    "print(newList)\n",
    "newList.sort(reverse=True)\n",
    "print(newList)"
   ]
  },
  {
   "cell_type": "code",
   "execution_count": 96,
   "id": "77bc6df3-aa3d-4990-8b7b-c0a8fac556d4",
   "metadata": {},
   "outputs": [
    {
     "name": "stdout",
     "output_type": "stream",
     "text": [
      "[95, 105, 90, 150, 50, 200]\n"
     ]
    }
   ],
   "source": [
    "numbers = [95, 200, 150, 90, 50, 105]\n",
    "\n",
    "def myFunc(n):\n",
    "    return abs(n-100)\n",
    "\n",
    "numbers.sort(key=myFunc)\n",
    "print(numbers)"
   ]
  },
  {
   "cell_type": "code",
   "execution_count": 106,
   "id": "71ce158a-ae2b-4f39-a778-a713fff0eac4",
   "metadata": {},
   "outputs": [
    {
     "name": "stdout",
     "output_type": "stream",
     "text": [
      "['kiwi', 'mango', 'apple', 'watermelon']\n",
      "['apple', 'kiwi', 'watermelon', 'mango']\n",
      "[3, -3, -10, 15, 20, -20]\n"
     ]
    }
   ],
   "source": [
    "fruits = ['watermelon', 'kiwi', 'mango', 'apple']\n",
    "\n",
    "def myFunc(n):\n",
    "    return len(n)\n",
    "\n",
    "fruits.sort(key=myFunc)\n",
    "print(fruits)\n",
    "\n",
    "def my_func(n):\n",
    "    return n[-1]\n",
    "\n",
    "fruits.sort(key=my_func)\n",
    "print(fruits)\n",
    "\n",
    "numbers = [-10, 20, 15, -3, 3, -20]\n",
    "\n",
    "def anotFunc(n):\n",
    "    return (abs(n), n<0)\n",
    "\n",
    "numbers.sort(key=anotFunc)\n",
    "print(numbers)"
   ]
  },
  {
   "cell_type": "code",
   "execution_count": 144,
   "id": "3b34ee05-f8f8-4fb9-8ca4-90b2c256265d",
   "metadata": {},
   "outputs": [
    {
     "name": "stdout",
     "output_type": "stream",
     "text": [
      "['Charlie Brown', 'Eve Davis', 'Alice Johnson', 'Frank Miller', 'Diana Prince', 'Bob Smith']\n"
     ]
    }
   ],
   "source": [
    "names = [\n",
    "    \"Alice Johnson\",\n",
    "    \"Bob Smith\",\n",
    "    \"Charlie Brown\",\n",
    "    \"Diana Prince\",\n",
    "    \"Eve Davis\",\n",
    "    \"Frank Miller\"\n",
    "]\n",
    "\n",
    "def myFunc(n):\n",
    "    return n.split()[-1]\n",
    "\n",
    "names.sort(key=myFunc)\n",
    "print(names)\n",
    "\n"
   ]
  },
  {
   "cell_type": "code",
   "execution_count": 158,
   "id": "d8b915c0-bd14-4595-90c7-d2e299e9b01a",
   "metadata": {},
   "outputs": [
    {
     "name": "stdout",
     "output_type": "stream",
     "text": [
      "['Oslo', 'Tokyo', 'Delhi', 'New York', 'Amsterdam', 'San Francisco']\n",
      "['Amsterdam', 'Delhi', 'Oslo', 'Tokyo', 'New York', 'San Francisco']\n"
     ]
    }
   ],
   "source": [
    "cities = [\n",
    "    \"New York\",\n",
    "    \"Tokyo\",\n",
    "    \"Amsterdam\",\n",
    "    \"Delhi\",\n",
    "    \"San Francisco\",\n",
    "    \"Oslo\"\n",
    "]\n",
    "\n",
    "def myFunc(city):\n",
    "    return len(city)\n",
    "\n",
    "cities.sort(key=myFunc)\n",
    "print(cities)\n",
    "\n",
    "def numberOfWords(city):\n",
    "    return (len(city.split()), city)\n",
    "\n",
    "cities.sort(key=numberOfWords)\n",
    "print(cities)"
   ]
  },
  {
   "cell_type": "code",
   "execution_count": 194,
   "id": "e2008104-fcd4-42f7-84fe-cf039ee6cce6",
   "metadata": {},
   "outputs": [
    {
     "name": "stdout",
     "output_type": "stream",
     "text": [
      "[{'name': 'Bob', 'age': 25}, {'name': 'Charlie', 'age': 25}, {'name': 'Alice', 'age': 30}, {'name': 'Eve', 'age': 30}, {'name': 'Diana', 'age': 35}]\n"
     ]
    }
   ],
   "source": [
    "people = [\n",
    "    {'name': 'Bob', 'age': 25},\n",
    "    {'name': 'Charlie', 'age': 25},\n",
    "    {'name': 'Alice', 'age': 30},\n",
    "    {'name': 'Eve', 'age': 30},\n",
    "    {'name': 'Diana', 'age': 35}\n",
    "]\n",
    "\n",
    "def func(person):\n",
    "    return (person['age'], person['name'])\n",
    "\n",
    "people.sort(key=func)\n",
    "print(people)"
   ]
  },
  {
   "cell_type": "code",
   "execution_count": 206,
   "id": "25890ba2-9ac2-498f-b3dc-d3257ae08a76",
   "metadata": {},
   "outputs": [
    {
     "name": "stdout",
     "output_type": "stream",
     "text": [
      "[{'name': 'Smartphone', 'price': 800, 'rating': 4.7}, {'name': 'Monitor', 'price': 300, 'rating': 4.5}, {'name': 'Laptop', 'price': 1200, 'rating': 4.5}, {'name': 'Tablet', 'price': 600, 'rating': 4.3}, {'name': 'Keyboard', 'price': 100, 'rating': 4.2}]\n"
     ]
    }
   ],
   "source": [
    "products = [\n",
    "    {'name': 'Laptop', 'price': 1200, 'rating': 4.5},\n",
    "    {'name': 'Smartphone', 'price': 800, 'rating': 4.7},\n",
    "    {'name': 'Tablet', 'price': 600, 'rating': 4.3},\n",
    "    {'name': 'Monitor', 'price': 300, 'rating': 4.5},\n",
    "    {'name': 'Keyboard', 'price': 100, 'rating': 4.2}\n",
    "]\n",
    "\n",
    "def myFunc(product):\n",
    "    return (-product['rating'], product['price'])\n",
    "\n",
    "products.sort(key=myFunc)\n",
    "print(products)"
   ]
  },
  {
   "cell_type": "code",
   "execution_count": 210,
   "id": "8ea80e78-696a-437a-96ba-df964f88a13a",
   "metadata": {},
   "outputs": [
    {
     "name": "stdout",
     "output_type": "stream",
     "text": [
      "[{'title': 'Brave New World', 'author': 'Huxley', 'year': 1932}, {'title': 'Animal Farm', 'author': 'Orwell', 'year': 1945}, {'title': '1984', 'author': 'Orwell', 'year': 1949}, {'title': 'The Hobbit', 'author': 'Tolkien', 'year': 1937}, {'title': 'The Silmarillion', 'author': 'Tolkien', 'year': 1977}]\n"
     ]
    }
   ],
   "source": [
    "books = [\n",
    "    {'title': 'The Hobbit', 'author': 'Tolkien', 'year': 1937},\n",
    "    {'title': '1984', 'author': 'Orwell', 'year': 1949},\n",
    "    {'title': 'Animal Farm', 'author': 'Orwell', 'year': 1945},\n",
    "    {'title': 'The Silmarillion', 'author': 'Tolkien', 'year': 1977},\n",
    "    {'title': 'Brave New World', 'author': 'Huxley', 'year': 1932}\n",
    "]\n",
    "\n",
    "def myFunc(book):\n",
    "    return (book['author'], book['year'])\n",
    "\n",
    "books.sort(key=myFunc)\n",
    "print(books)"
   ]
  },
  {
   "cell_type": "code",
   "execution_count": 216,
   "id": "4507cd24-cabd-4e71-a031-9d8fcb4baca9",
   "metadata": {},
   "outputs": [
    {
     "name": "stdout",
     "output_type": "stream",
     "text": [
      "[{'name': 'Emma', 'grade': 95, 'age': 19}, {'name': 'Olivia', 'grade': 95, 'age': 21}, {'name': 'John', 'grade': 88, 'age': 20}, {'name': 'Michael', 'grade': 88, 'age': 21}, {'name': 'Newton', 'grade': 88, 'age': 21}, {'name': 'Sam', 'grade': 88, 'age': 22}]\n"
     ]
    }
   ],
   "source": [
    "students = [\n",
    "    {'name': 'John', 'grade': 88, 'age': 20},\n",
    "    {'name': 'Emma', 'grade': 95, 'age': 19},\n",
    "    {'name': 'Sam', 'grade': 88, 'age': 22},\n",
    "    {'name': 'Olivia', 'grade': 95, 'age': 21},\n",
    "    {'name': 'Michael', 'grade': 88, 'age': 21},\n",
    "    {'name': 'Newton', 'grade': 88, 'age': 21}\n",
    "]\n",
    "\n",
    "def myFunc(student):\n",
    "    return (-student['grade'], student['age'], student['name'])\n",
    "\n",
    "students.sort(key=myFunc)\n",
    "print(students)"
   ]
  },
  {
   "cell_type": "code",
   "execution_count": 234,
   "id": "a11b8b43-10b3-427a-8f88-3e76e8a44a69",
   "metadata": {},
   "outputs": [
    {
     "name": "stdout",
     "output_type": "stream",
     "text": [
      "[{'name': 'Bob', 'department': 'Engineering', 'score': 90}, {'name': 'Diana', 'department': 'Engineering', 'score': 85}, {'name': 'Eve', 'department': 'Sales', 'score': 95}, {'name': 'Alice', 'department': 'Sales', 'score': 80}, {'name': 'Charlie', 'department': 'HR', 'score': 88}]\n",
      "loyalty\n",
      "3\n",
      "[{'name': 'Clara', 'department': 'Engineering', 'job': 'Manager'}, {'name': 'David', 'department': 'Engineering', 'job': 'Manager'}, {'name': 'Brian', 'department': 'Engineering', 'job': 'Engineer'}, {'name': 'Anna', 'department': 'Marketing', 'job': 'Executive'}, {'name': 'Eva', 'department': 'HR', 'job': 'Intern'}]\n"
     ]
    }
   ],
   "source": [
    "employees = [\n",
    "    {'name': 'Alice', 'department': 'Sales', 'score': 80},\n",
    "    {'name': 'Bob', 'department': 'Engineering', 'score': 90},\n",
    "    {'name': 'Charlie', 'department': 'HR', 'score': 88},\n",
    "    {'name': 'Diana', 'department': 'Engineering', 'score': 85},\n",
    "    {'name': 'Eve', 'department': 'Sales', 'score': 95}\n",
    "]\n",
    "\n",
    "priority = {\n",
    "    'Engineering': 1,\n",
    "    'Sales': 2,\n",
    "    'HR': 3\n",
    "}\n",
    "\n",
    "def myFunc(employee):\n",
    "    return(priority[employee['department']],-employee['score'])\n",
    "\n",
    "employees.sort(key=myFunc)\n",
    "print(employees)\n",
    "\n",
    "\n",
    "favorite_animal = {\n",
    "    'Liam': 'cat',\n",
    "    'Sophia': 'dog',\n",
    "    'Ethan': 'bird'\n",
    "}\n",
    "\n",
    "animal_meaning = {\n",
    "    'cat': 'independence',\n",
    "    'dog': 'loyalty',\n",
    "    'bird': 'freedom'\n",
    "}\n",
    "\n",
    "print(animal_meaning[favorite_animal['Sophia']])\n",
    "\n",
    "employee_role = {\n",
    "    'Ava': 'Manager',\n",
    "    'Noah': 'Intern',\n",
    "    'Mia': 'Engineer',\n",
    "    'Liam': 'Manager'\n",
    "}\n",
    "\n",
    "salary_level = {\n",
    "    'Intern': 1,\n",
    "    'Engineer': 3,\n",
    "    'Manager': 4\n",
    "}\n",
    "\n",
    "print(salary_level[employee_role['Mia']])\n",
    "\n",
    "employees = [\n",
    "    {'name': 'Anna', 'department': 'Marketing', 'job': 'Executive'},\n",
    "    {'name': 'Brian', 'department': 'Engineering', 'job': 'Engineer'},\n",
    "    {'name': 'Clara', 'department': 'Engineering', 'job': 'Manager'},\n",
    "    {'name': 'David', 'department': 'Engineering', 'job': 'Manager'},\n",
    "    {'name': 'Eva', 'department': 'HR', 'job': 'Intern'}\n",
    "]\n",
    "\n",
    "department_priority = {\n",
    "    'Engineering': 0,\n",
    "    'Marketing': 1,\n",
    "    'HR': 2\n",
    "}\n",
    "\n",
    "salary_level = {\n",
    "    'Intern': 1,\n",
    "    'Executive': 2,\n",
    "    'Engineer': 3,\n",
    "    'Manager': 4\n",
    "}\n",
    "\n",
    "def sortEmployees(employee):\n",
    "    return(department_priority[employee['department']], -salary_level[employee['job']], employee['name'])\n",
    "\n",
    "employees.sort(key=sortEmployees)\n",
    "print(employees)"
   ]
  }
 ],
 "metadata": {
  "kernelspec": {
   "display_name": "Python [conda env:base] *",
   "language": "python",
   "name": "conda-base-py"
  },
  "language_info": {
   "codemirror_mode": {
    "name": "ipython",
    "version": 3
   },
   "file_extension": ".py",
   "mimetype": "text/x-python",
   "name": "python",
   "nbconvert_exporter": "python",
   "pygments_lexer": "ipython3",
   "version": "3.12.7"
  }
 },
 "nbformat": 4,
 "nbformat_minor": 5
}
