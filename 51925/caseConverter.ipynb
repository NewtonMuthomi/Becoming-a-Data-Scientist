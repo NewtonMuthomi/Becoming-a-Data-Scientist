{
 "cells": [
  {
   "cell_type": "code",
   "execution_count": 1,
   "id": "ea8303bd-7ab4-4cae-9440-5cac3e32c87d",
   "metadata": {},
   "outputs": [
    {
     "name": "stdout",
     "output_type": "stream",
     "text": [
      "a_long_pascal_camel_cased_string\n"
     ]
    }
   ],
   "source": [
    "#Case Converter using loops\n",
    "\n",
    "def convert_pascal(pascal_string):\n",
    "    converted_list = []\n",
    "    for char in pascal_string:\n",
    "        if char.isupper():\n",
    "            converted_list.append('_')\n",
    "            converted_list.append(char.lower())\n",
    "        else:\n",
    "            converted_list.append(char)\n",
    "        snakeCasedString = ''.join(converted_list)\n",
    "    return snakeCasedString.strip('_')\n",
    "\n",
    "def main():\n",
    "    print(convert_pascal('ALongPascalCamelCasedString'))\n",
    "main()"
   ]
  },
  {
   "cell_type": "code",
   "execution_count": 2,
   "id": "a69930a3-bbbf-49f3-a567-e367f3ee1e73",
   "metadata": {},
   "outputs": [
    {
     "name": "stdout",
     "output_type": "stream",
     "text": [
      "i_am_a_snake_cased_string\n"
     ]
    }
   ],
   "source": [
    "#Case converter using List Comprehension\n",
    "\n",
    "def convert_pascal(pascal_string):\n",
    "    converted_list = ['_'+char.lower() if char.isupper() else char for char in pascal_string]\n",
    "    return \"\".join(converted_list).strip(\"_\")\n",
    "\n",
    "def main():\n",
    "    print(convert_pascal('IAmASnakeCasedString'))\n",
    "main()"
   ]
  },
  {
   "cell_type": "code",
   "execution_count": 64,
   "id": "9d21984b-e732-40ef-bbfe-00b6cba488ec",
   "metadata": {},
   "outputs": [
    {
     "name": "stdout",
     "output_type": "stream",
     "text": [
      "[1, 3, 6, 10]\n",
      "[1, 2, 3, 4]\n",
      "[3, 4, 6, 16, 17]\n",
      "16\n",
      "Triangle [3, 3, 3]: This is an equilateral triangle.\n",
      "Triangle [5, 5, 7]: This is a isosceles triangle.\n",
      "Triangle [3, 4, 5]: This is a scalene triangle.\n"
     ]
    }
   ],
   "source": [
    "#random quizzes on leetcode\n",
    "\n",
    "class SolutionOne():\n",
    "    def runningSum(self, nums: list[int]):\n",
    "        for i in range(1, len(nums)):\n",
    "            nums[i]+=nums[i-1]\n",
    "        return nums\n",
    "    def main(self):\n",
    "        list_of_nums = [\n",
    "            [1,2,3,4],\n",
    "            [1,1,1,1],\n",
    "            [3,1,2,10,1]\n",
    "        ]\n",
    "        for nums in list_of_nums:\n",
    "            result = self.runningSum(nums)\n",
    "            print(result)\n",
    "            \n",
    "solutionOne = SolutionOne()\n",
    "solutionOne.main()\n",
    "\n",
    "from typing import List\n",
    "\n",
    "class SolutionTwo():\n",
    "    def maximumWealth(self, accounts: List[List[int]]):\n",
    "        return max(map(sum, accounts))\n",
    "        \n",
    "    def main(self):\n",
    "        customerAccounts = [[8,2,6],[4,3,7],[7,2,1]]\n",
    "        result = self.maximumWealth(customerAccounts)\n",
    "        print(result)\n",
    "            \n",
    "solutionTwo = SolutionTwo()\n",
    "solutionTwo.main()\n",
    "\n",
    "class Triangle():\n",
    "    def triangleType(self, nums:List[List[int]]):\n",
    "        for sides in nums:\n",
    "            sides.sort()\n",
    "            if sides[0]+sides[1] <= sides[2]:\n",
    "                print(f'Triangle {sides}: Not a triangle.')\n",
    "            elif sides[0] == sides[2]:\n",
    "                print(f'Triangle {sides}: This is an equilateral triangle.')\n",
    "            elif sides[0] == sides[1] or sides[1] == sides[2]:\n",
    "                print(f'Triangle {sides}: This is a isosceles triangle.') \n",
    "            else:\n",
    "                print(f'Triangle {sides}: This is a scalene triangle.') \n",
    "\n",
    "    def main(self):\n",
    "        triangleSides = [[3,3,3], [5,5,7], [3,4,5]]\n",
    "        self.triangleType(triangleSides)\n",
    "        \n",
    "solution = Triangle()\n",
    "solution.main()"
   ]
  }
 ],
 "metadata": {
  "kernelspec": {
   "display_name": "Python [conda env:base] *",
   "language": "python",
   "name": "conda-base-py"
  },
  "language_info": {
   "codemirror_mode": {
    "name": "ipython",
    "version": 3
   },
   "file_extension": ".py",
   "mimetype": "text/x-python",
   "name": "python",
   "nbconvert_exporter": "python",
   "pygments_lexer": "ipython3",
   "version": "3.12.7"
  }
 },
 "nbformat": 4,
 "nbformat_minor": 5
}
