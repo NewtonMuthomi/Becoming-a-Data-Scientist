{
 "cells": [
  {
   "cell_type": "code",
   "execution_count": 8,
   "id": "f087dd9f-3211-4bae-a40e-919de596c314",
   "metadata": {},
   "outputs": [
    {
     "name": "stdout",
     "output_type": "stream",
     "text": [
      "[1, 3, 6, 10]\n",
      "[1, 2, 3, 4]\n",
      "[3, 4, 6, 16, 17]\n",
      "16\n",
      "Triangle [3, 3, 3]: This is an equilateral triangle.\n",
      "Triangle [5, 5, 7]: This is a isosceles triangle.\n",
      "Triangle [3, 4, 5]: This is a scalene triangle.\n"
     ]
    }
   ],
   "source": [
    "#random quizzes on leetcode\n",
    "from typing import List\n",
    "\n",
    "class RunningSum():\n",
    "    def runningSum(self, nums: list[int]):\n",
    "        for i in range(1, len(nums)):\n",
    "            nums[i]+=nums[i-1]\n",
    "        return nums\n",
    "    def main(self):\n",
    "        list_of_nums = [\n",
    "            [1,2,3,4],\n",
    "            [1,1,1,1],\n",
    "            [3,1,2,10,1]\n",
    "        ]\n",
    "        for nums in list_of_nums:\n",
    "            result = self.runningSum(nums)\n",
    "            print(result)\n",
    "            \n",
    "solution = RunningSum()\n",
    "solution.main()\n",
    "\n",
    "class MaxWealth():\n",
    "    def maximumWealth(self, accounts: List[List[int]]):\n",
    "        return max(map(sum, accounts))\n",
    "        \n",
    "    def main(self):\n",
    "        customerAccounts = [[8,2,6],[4,3,7],[7,2,1]]\n",
    "        result = self.maximumWealth(customerAccounts)\n",
    "        print(result)\n",
    "            \n",
    "solution = MaxWealth()\n",
    "solution.main()\n",
    "\n",
    "class Triangle():\n",
    "    def triangleType(self, nums:List[List[int]]):\n",
    "        for sides in nums:\n",
    "            sides.sort()\n",
    "            if sides[0]+sides[1] <= sides[2]:\n",
    "                print(f'Triangle {sides}: Not a triangle.')\n",
    "            elif sides[0] == sides[2]:\n",
    "                print(f'Triangle {sides}: This is an equilateral triangle.')\n",
    "            elif sides[0] == sides[1] or sides[1] == sides[2]:\n",
    "                print(f'Triangle {sides}: This is a isosceles triangle.') \n",
    "            else:\n",
    "                print(f'Triangle {sides}: This is a scalene triangle.') \n",
    "\n",
    "    def main(self):\n",
    "        triangleSides = [[3,3,3], [5,5,7], [3,4,5]]\n",
    "        self.triangleType(triangleSides)\n",
    "        \n",
    "solution = Triangle()\n",
    "solution.main()"
   ]
  }
 ],
 "metadata": {
  "kernelspec": {
   "display_name": "Python [conda env:base] *",
   "language": "python",
   "name": "conda-base-py"
  },
  "language_info": {
   "codemirror_mode": {
    "name": "ipython",
    "version": 3
   },
   "file_extension": ".py",
   "mimetype": "text/x-python",
   "name": "python",
   "nbconvert_exporter": "python",
   "pygments_lexer": "ipython3",
   "version": "3.12.7"
  }
 },
 "nbformat": 4,
 "nbformat_minor": 5
}
