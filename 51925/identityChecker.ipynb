{
 "cells": [
  {
   "cell_type": "code",
   "execution_count": 2,
   "id": "c4e1306f-eba2-46ca-80dc-a03bdfa63f9e",
   "metadata": {},
   "outputs": [
    {
     "name": "stdout",
     "output_type": "stream",
     "text": [
      "Checking values: (5, 5)\n",
      "Equal values? True\n",
      "Object same? True\n",
      "Memory address for a is: 140734062340664\n",
      "Memory address for a is: 140734062340664\n",
      "______________________________\n",
      "Checking values: (500, 500)\n",
      "Equal values? True\n",
      "Object same? True\n",
      "Memory address for a is: 2568265887024\n",
      "Memory address for a is: 2568265887024\n",
      "______________________________\n",
      "Checking values: ('hello', 'hello')\n",
      "Equal values? True\n",
      "Object same? True\n",
      "Memory address for a is: 2568219391968\n",
      "Memory address for a is: 2568219391968\n",
      "______________________________\n",
      "Checking values: ([], [])\n",
      "Equal values? True\n",
      "Object same? False\n",
      "Memory address for a is: 2568243887168\n",
      "Memory address for a is: 2568243887168\n",
      "______________________________\n",
      "Checking values: (None, None)\n",
      "Equal values? True\n",
      "Object same? True\n",
      "Memory address for a is: 140734061295568\n",
      "Memory address for a is: 140734061295568\n",
      "______________________________\n"
     ]
    }
   ],
   "source": [
    "#Understanding '==' vs 'is'\n",
    "\n",
    "def check_identity(a,b):\n",
    "    print(f'Checking values: {a,b}')\n",
    "    print(f'Equal values? {a == b}')\n",
    "    print(f'Object same? {a is b}')\n",
    "    print(f'Memory address for a is: {id(a)}')\n",
    "    print(f'Memory address for a is: {id(a)}')\n",
    "    print('_' * 30)\n",
    "\n",
    "def main():\n",
    "    pairs = [\n",
    "    (5, 5),\n",
    "    (500, 500),\n",
    "    (\"hello\", \"hello\"),\n",
    "    ([], []),\n",
    "    (None, None),\n",
    "]\n",
    "    for a,b in pairs: \n",
    "        check_identity(a,b)\n",
    "main()"
   ]
  }
 ],
 "metadata": {
  "kernelspec": {
   "display_name": "Python [conda env:base] *",
   "language": "python",
   "name": "conda-base-py"
  },
  "language_info": {
   "codemirror_mode": {
    "name": "ipython",
    "version": 3
   },
   "file_extension": ".py",
   "mimetype": "text/x-python",
   "name": "python",
   "nbconvert_exporter": "python",
   "pygments_lexer": "ipython3",
   "version": "3.12.7"
  }
 },
 "nbformat": 4,
 "nbformat_minor": 5
}
