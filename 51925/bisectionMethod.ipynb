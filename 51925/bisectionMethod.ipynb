{
 "cells": [
  {
   "cell_type": "code",
   "execution_count": 26,
   "id": "f55b4dd6-1ddf-4d04-95f1-0912dea7ecb0",
   "metadata": {},
   "outputs": [
    {
     "name": "stdout",
     "output_type": "stream",
     "text": [
      "The square root of 0.001 is approximately 0.03162384033203125\n",
      "The square root of 2 is approximately 1.4142135381698608\n",
      "The square root of 16 is approximately 4.0\n"
     ]
    }
   ],
   "source": [
    "#Bisection method by finding square roots\n",
    "def square_root_bisection(square_target, tolerance=1e-7, max_iterations=100):\n",
    "    if square_target<0:\n",
    "        raise ValueError('Square root of negative number is not defined in real numbers.')\n",
    "    elif square_target == 1:\n",
    "        root = 1\n",
    "        print(f'The square root of {square_target} is 1')\n",
    "    elif square_target == 0:\n",
    "        root = 0\n",
    "        print(f'The square root of {square_target} is 0')\n",
    "    else:\n",
    "        low = 0\n",
    "        high = max(1, square_target)\n",
    "        root = None\n",
    "        for _ in range(max_iterations):\n",
    "            mid = (low+high)/2\n",
    "            square_mid = mid**2\n",
    "            if abs(square_mid-square_target) < tolerance:\n",
    "                root = mid\n",
    "                break\n",
    "            elif square_mid < square_target:\n",
    "                low = mid\n",
    "            else:\n",
    "                high = mid\n",
    "        if root is None:\n",
    "            print(f'Failed to converge within {max_iterations} iterations.')\n",
    "        else: \n",
    "            print(f'The square root of {square_target} is approximately {root}')\n",
    "    return root\n",
    "\n",
    "def main(square_root_bisection):\n",
    "    N = [0.001,2,16]\n",
    "    for number in N:\n",
    "        square_root_bisection(number)\n",
    "main(square_root_bisection)         "
   ]
  }
 ],
 "metadata": {
  "kernelspec": {
   "display_name": "Python [conda env:base] *",
   "language": "python",
   "name": "conda-base-py"
  },
  "language_info": {
   "codemirror_mode": {
    "name": "ipython",
    "version": 3
   },
   "file_extension": ".py",
   "mimetype": "text/x-python",
   "name": "python",
   "nbconvert_exporter": "python",
   "pygments_lexer": "ipython3",
   "version": "3.12.7"
  }
 },
 "nbformat": 4,
 "nbformat_minor": 5
}
