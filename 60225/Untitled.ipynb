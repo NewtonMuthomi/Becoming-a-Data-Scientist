{
 "cells": [
  {
   "cell_type": "code",
   "execution_count": 6,
   "id": "37c39b66-a484-4055-a2cd-f4e61cddeccc",
   "metadata": {},
   "outputs": [
    {
     "name": "stdin",
     "output_type": "stream",
     "text": [
      "Enter the number of employees: 3\n",
      "Enter name and 3 daily hours: Alice 3 4.5 5\n",
      "Enter name and 3 daily hours: Pablo 5 4 3\n",
      "Enter name and 3 daily hours: Mark 2 3 4\n",
      "Enter employee name to view total hours: Mark\n"
     ]
    },
    {
     "name": "stdout",
     "output_type": "stream",
     "text": [
      "Mark worked 9.00 hours in total.\n"
     ]
    }
   ],
   "source": [
    "n = int(input('Enter the number of employees:'))\n",
    "employee_hours = {}\n",
    "\n",
    "for _ in range(n):\n",
    "    line = input(\"Enter name and 3 daily hours:\").split()\n",
    "    name = line[0]\n",
    "    hours = list(map(float, line[1:]))\n",
    "    employee_hours[name] = hours\n",
    "query_name = input('Enter employee name to view total hours:')\n",
    "\n",
    "if query_name in employee_hours:\n",
    "    total = sum(employee_hours[query_name])\n",
    "    print(f'{query_name} worked {total:.2f} hours in total.')\n",
    "else:\n",
    "    print('Employee not found.')"
   ]
  },
  {
   "cell_type": "code",
   "execution_count": 10,
   "id": "214089af-e005-432a-9ee7-6bf8855e5b1b",
   "metadata": {},
   "outputs": [
    {
     "name": "stdin",
     "output_type": "stream",
     "text": [
      "Enter number of students: 2\n",
      "Enter name of student and their marks: Alice 30 50 70\n",
      "Enter name of student and their marks: Bob 40 25 60\n",
      "Enter student name to view total score: Bob\n"
     ]
    },
    {
     "name": "stdout",
     "output_type": "stream",
     "text": [
      "Bob got 125.00 in total.\n"
     ]
    }
   ],
   "source": [
    "n = int(input('Enter number of students:'))\n",
    "student_marks = {}\n",
    "\n",
    "for _ in range(n):\n",
    "    name, *line = input('Enter name of student and their marks:').split()\n",
    "    scores = list(map(float, line))\n",
    "    student_marks[name] = scores\n",
    "query_name = input('Enter student name to view total score:')\n",
    "\n",
    "scores = student_marks.get(query_name)\n",
    "if scores:\n",
    "    total = sum(scores)\n",
    "    print(f'{query_name} got {total:.2f} in total.')\n",
    "else:\n",
    "    print('Student not found.')\n",
    "    "
   ]
  },
  {
   "cell_type": "code",
   "execution_count": 44,
   "id": "e84d3345-8d7e-48b2-b77f-9696c0d6cf47",
   "metadata": {},
   "outputs": [
    {
     "name": "stdin",
     "output_type": "stream",
     "text": [
      "Enter number of students: 3\n",
      "Enter student name and scores: Alice 30 30 30\n",
      "Enter student name and scores: Bob 40 40 40\n",
      "Enter student name and scores: Greg 50 50 50\n"
     ]
    },
    {
     "name": "stdout",
     "output_type": "stream",
     "text": [
      "Greg got the highest average score: 50.0\n"
     ]
    }
   ],
   "source": [
    "n = int(input('Enter number of students:'))\n",
    "student_marks = {}\n",
    "\n",
    "for _ in range(n):\n",
    "    name, *line = input('Enter student name and scores:').split()\n",
    "    scores = list(map(float, line))\n",
    "    student_marks[name] = scores\n",
    "\n",
    "highest_avg = -1\n",
    "student_name = ''\n",
    "\n",
    "for name, score in student_marks.items():\n",
    "    average = sum(score)/len(score)\n",
    "    if average > highest_avg:\n",
    "        highest_avg = average\n",
    "        student_name = name\n",
    "\n",
    "print(f'{student_name} got the highest average score: {highest_avg:.2f}')"
   ]
  },
  {
   "cell_type": "code",
   "execution_count": 64,
   "id": "384ac4da-0c9b-48d4-8744-85a391165b1b",
   "metadata": {},
   "outputs": [
    {
     "name": "stdin",
     "output_type": "stream",
     "text": [
      "Enter number of students: 3\n",
      "Enter name of student and their scores: Alice 90 91 92 93 94 95\n",
      "Enter name of student and their scores: Bob 89 87 96 97 90 91\n",
      "Enter name of student and their scores: Claire 93 93 93 93 93\n",
      "Enter the threshold average score: 92\n"
     ]
    },
    {
     "name": "stdout",
     "output_type": "stream",
     "text": [
      "Alice got an average score of 92.50 which is 0.50 points more than the threshold.\n",
      "Claire got an average score of 93.00 which is 1.00 points more than the threshold.\n"
     ]
    }
   ],
   "source": [
    "n = int(input('Enter number of students:'))\n",
    "student_marks = {}\n",
    "\n",
    "for _ in range(n):\n",
    "    name, *scores = input('Enter name of student and their scores:').split()\n",
    "    scores = list(map(float, scores))\n",
    "    student_marks[name] = scores\n",
    "threshold = float(input(('Enter the threshold average score:')))\n",
    "\n",
    "abv_threshold = {}\n",
    "student_name = ''\n",
    "\n",
    "for name, score in student_marks.items():\n",
    "    average = sum(score)/len(score)\n",
    "    if average >= threshold:\n",
    "        print(f\"{name} got an average score of {average:.2f} which is {average-threshold:.2f} points more than the threshold.\")"
   ]
  },
  {
   "cell_type": "code",
   "execution_count": 134,
   "id": "2ccd91b5-871f-4838-9a9a-9b3e2358273b",
   "metadata": {},
   "outputs": [
    {
     "name": "stdin",
     "output_type": "stream",
     "text": [
      "Enter the number of students: 3\n",
      "The student name and scores: Alice 20 30 40\n",
      "The student name and scores: Bob 30 40 50\n",
      "The student name and scores: Chris 40 50 60\n"
     ]
    },
    {
     "name": "stdout",
     "output_type": "stream",
     "text": [
      "Average score in Math is: 30.0\n",
      "Average score in Physics is: 40.0\n",
      "Average score in Chemistry is: 50.0\n"
     ]
    }
   ],
   "source": [
    "n = int(input('Enter the number of students:'))\n",
    "student_marks = {}\n",
    "\n",
    "for _ in range(n):\n",
    "    name, *scores = input('The student name and scores:').split()\n",
    "    scores = list(map(float, scores))\n",
    "    student_marks[name] = scores \n",
    "\n",
    "math = 0\n",
    "physics = 0\n",
    "chem = 0\n",
    "\n",
    "for bucket in student_marks.values():\n",
    "    math += bucket[0]\n",
    "    physics += bucket[1]\n",
    "    chem += bucket[2]\n",
    "\n",
    "avg_math = math/len(student_marks)\n",
    "avg_physics = physics/len(student_marks)\n",
    "avg_chem = chem/len(student_marks)\n",
    "\n",
    "print(f'Average score in Math is: {avg_math:.2f}')\n",
    "print(f'Average score in Physics is: {avg_physics:.2f}')\n",
    "print(f'Average score in Chemistry is: {avg_chem:.2f}')\n"
   ]
  },
  {
   "cell_type": "code",
   "execution_count": 152,
   "id": "e3003143-820b-414d-b6f8-e4a66ee54245",
   "metadata": {},
   "outputs": [
    {
     "name": "stdin",
     "output_type": "stream",
     "text": [
      "Enter the number of students: 5\n",
      "Enter the student name and their scores: Ann 90 90 90\n",
      "Enter the student name and their scores: Bob 80 80 80\n",
      "Enter the student name and their scores: Claire 70 70 70\n",
      "Enter the student name and their scores: Dan 60 60 60\n",
      "Enter the student name and their scores: Ell 50 50 50\n"
     ]
    },
    {
     "name": "stdout",
     "output_type": "stream",
     "text": [
      "Ann got 90.00 (A)\n",
      "Bob got 80.00 (B)\n",
      "Claire got 70.00 (C)\n",
      "Dan got 60.00 (D)\n",
      "Ell got 50.00 (F)\n"
     ]
    }
   ],
   "source": [
    "n = int(input('Enter the number of students:'))\n",
    "student_marks = {}\n",
    "\n",
    "for _ in range(n):\n",
    "    name, *scores = input('Enter the student name and their scores:').split()\n",
    "    scores = list(map(float, scores))\n",
    "    student_marks[name] = scores\n",
    "\n",
    "for name, score in student_marks.items():\n",
    "    avg_score = sum(score)/len(score)\n",
    "    if avg_score >= 90:\n",
    "        print(f'{name} got {avg_score:.2f} (A)')\n",
    "    elif avg_score >= 80:\n",
    "        print(f'{name} got {avg_score:.2f} (B)')\n",
    "    elif avg_score >= 70:\n",
    "        print(f'{name} got {avg_score:.2f} (C)')\n",
    "    elif avg_score >= 60:\n",
    "        print(f'{name} got {avg_score:.2f} (D)')\n",
    "    else:\n",
    "        print(f'{name} got {avg_score:.2f} (F)')\n",
    "\n"
   ]
  }
 ],
 "metadata": {
  "kernelspec": {
   "display_name": "Python [conda env:base] *",
   "language": "python",
   "name": "conda-base-py"
  },
  "language_info": {
   "codemirror_mode": {
    "name": "ipython",
    "version": 3
   },
   "file_extension": ".py",
   "mimetype": "text/x-python",
   "name": "python",
   "nbconvert_exporter": "python",
   "pygments_lexer": "ipython3",
   "version": "3.12.7"
  }
 },
 "nbformat": 4,
 "nbformat_minor": 5
}
