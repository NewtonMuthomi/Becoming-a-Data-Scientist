{
 "cells": [
  {
   "cell_type": "code",
   "execution_count": 4,
   "id": "f3cdaa49-c102-40a3-ba74-ba5aa3ce5011",
   "metadata": {},
   "outputs": [
    {
     "name": "stdout",
     "output_type": "stream",
     "text": [
      "['Diana', 'Bob', 'Ethan', 'Alice', 'Charlie']\n"
     ]
    }
   ],
   "source": [
    "students = [\n",
    "    {'name': 'Charlie', 'gpa': 3.8, 'major': 'Physics'},\n",
    "    {'name': 'Alice', 'gpa': 3.6, 'major': 'Math'},\n",
    "    {'name': 'Bob', 'gpa': 3.9, 'major': 'CS'},\n",
    "    {'name': 'Diana', 'gpa': 4.0, 'major': 'CS'},\n",
    "    {'name': 'Ethan', 'gpa': 3.5, 'major': 'CS'}\n",
    "]\n",
    "\n",
    "major_priority = {\n",
    "    'CS': 0,\n",
    "    'Math': 1,\n",
    "    'Physics': 2\n",
    "}\n",
    "\n",
    "def sortStudents(student):\n",
    "    return (major_priority[student['major']], -student['gpa'], student['name'])\n",
    "\n",
    "students.sort(key=sortStudents)\n",
    "# print(students)\n",
    "name_of_students = [student['name'] for student in students]\n",
    "print(name_of_students)"
   ]
  },
  {
   "cell_type": "code",
   "execution_count": 6,
   "id": "9d92f890-f74e-4b01-a417-77f945f46584",
   "metadata": {},
   "outputs": [
    {
     "name": "stdout",
     "output_type": "stream",
     "text": [
      "['Tom', 'Lucy', 'Maya', 'Hannah', 'Raj']\n"
     ]
    }
   ],
   "source": [
    "employees = [\n",
    "    {'name': 'Hannah', 'salary': 95000, 'department': 'Sales'},\n",
    "    {'name': 'Tom', 'salary': 120000, 'department': 'Engineering'},\n",
    "    {'name': 'Lucy', 'salary': 105000, 'department': 'Engineering'},\n",
    "    {'name': 'Raj', 'salary': 97000, 'department': 'Marketing'},\n",
    "    {'name': 'Maya', 'salary': 99000, 'department': 'Sales'}\n",
    "]\n",
    "\n",
    "dept_priority = {\n",
    "    'Engineering': 0,\n",
    "    'Sales': 1,\n",
    "    'Marketing': 2\n",
    "}\n",
    "\n",
    "def sortEmployees(employee):\n",
    "    return (dept_priority[employee['department']], -employee['salary'], employee['name'])\n",
    "\n",
    "employee_names = [employee['name']for employee in sorted(employees, key=sortEmployees)] \n",
    "print(employee_names)"
   ]
  },
  {
   "cell_type": "code",
   "execution_count": 12,
   "id": "9c62b559-ffd7-4f0c-8d35-ff9c16b7e736",
   "metadata": {},
   "outputs": [
    {
     "name": "stdout",
     "output_type": "stream",
     "text": [
      "['Zoe', 'Elia', 'Liam', 'Max']\n"
     ]
    }
   ],
   "source": [
    "employees = [\n",
    "    {'name': 'Elia', 'salary': 120000, 'department': 'Engineering'},\n",
    "    {'name': 'Ben', 'salary': 85000, 'department': 'Sales'},\n",
    "    {'name': 'Zoe', 'salary': 135000, 'department': 'Engineering'},\n",
    "    {'name': 'Ivy', 'salary': 70000, 'department': 'HR'},\n",
    "    {'name': 'Max', 'salary': 95000, 'department': 'Sales'},\n",
    "    {'name': 'Liam', 'salary': 110000, 'department': 'Engineering'}\n",
    "]\n",
    "\n",
    "dept_priority = {\n",
    "    'Engineering': 0,\n",
    "    'Sales': 1,\n",
    "    'HR': 2\n",
    "}\n",
    "\n",
    "def sortEmployees(employee):\n",
    "    return (dept_priority[employee['department']], -employee['salary'], employee['name'])\n",
    "\n",
    "employee_names = [employee['name'] for employee in sorted(employees, key=sortEmployees) if employee['salary']>90000]\n",
    "print(employee_names)"
   ]
  },
  {
   "cell_type": "code",
   "execution_count": 40,
   "id": "7b0927d9-3b6d-459d-9de3-f54a9f67d94a",
   "metadata": {},
   "outputs": [
    {
     "name": "stdout",
     "output_type": "stream",
     "text": [
      "{'HR', 'Engineering', 'Sales'}\n",
      "{'Engineering': 3, 'HR': 1, 'Sales': 2}\n"
     ]
    }
   ],
   "source": [
    "employees = [\n",
    "    {'name': 'Ella', 'salary': 120000, 'department': 'Engineering'},\n",
    "    {'name': 'Ben', 'salary': 85000, 'department': 'Sales'},\n",
    "    {'name': 'Zoe', 'salary': 135000, 'department': 'Engineering'},\n",
    "    {'name': 'Ivy', 'salary': 70000, 'department': 'HR'},\n",
    "    {'name': 'Max', 'salary': 95000, 'department': 'Sales'},\n",
    "    {'name': 'Liam', 'salary': 110000, 'department': 'Engineering'}\n",
    "]\n",
    "\n",
    "departments = set(employee['department'] for employee in employees)\n",
    "print(departments)\n",
    "number_of_departments = {dept: len([employee for employee in employees if employee['department'] == dept]) for dept in sorted(departments)}\n",
    "print(number_of_departments)"
   ]
  },
  {
   "cell_type": "code",
   "execution_count": 44,
   "id": "cdff9ff2-047a-43eb-b061-a09ca00e2f1d",
   "metadata": {},
   "outputs": [
    {
     "name": "stdout",
     "output_type": "stream",
     "text": [
      "{'HR': 1, 'Engineering': 3, 'Sales': 2}\n"
     ]
    }
   ],
   "source": [
    "employees = [\n",
    "    {'name': 'Ella', 'salary': 120000, 'department': 'Engineering'},\n",
    "    {'name': 'Ben', 'salary': 85000, 'department': 'Sales'},\n",
    "    {'name': 'Zoe', 'salary': 135000, 'department': 'Engineering'},\n",
    "    {'name': 'Ivy', 'salary': 70000, 'department': 'HR'},\n",
    "    {'name': 'Max', 'salary': 95000, 'department': 'Sales'},\n",
    "    {'name': 'Liam', 'salary': 110000, 'department': 'Engineering'}\n",
    "]\n",
    "\n",
    "number_of_departments = {dept: \n",
    "                         len([employee for employee in employees if employee['department'] == dept]) \n",
    "                         for dept in set(employee['department'] for employee in employees)}\n",
    "print(number_of_departments)"
   ]
  }
 ],
 "metadata": {
  "kernelspec": {
   "display_name": "Python [conda env:base] *",
   "language": "python",
   "name": "conda-base-py"
  },
  "language_info": {
   "codemirror_mode": {
    "name": "ipython",
    "version": 3
   },
   "file_extension": ".py",
   "mimetype": "text/x-python",
   "name": "python",
   "nbconvert_exporter": "python",
   "pygments_lexer": "ipython3",
   "version": "3.12.7"
  }
 },
 "nbformat": 4,
 "nbformat_minor": 5
}
