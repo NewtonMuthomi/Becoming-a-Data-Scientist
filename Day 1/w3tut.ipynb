{
 "cells": [
  {
   "cell_type": "code",
   "execution_count": 29,
   "id": "fbdf3ec1-6d49-4fde-b602-5d54d0c3b512",
   "metadata": {},
   "outputs": [
    {
     "name": "stdout",
     "output_type": "stream",
     "text": [
      "[1 2 3 4 5]\n"
     ]
    }
   ],
   "source": [
    "#Using w3 schools alongside chatgpt for tutorials. \"Leraning by reading\", \"Learning by Examples\", \"Learning by Exercises\"\n",
    "#I'll be robotic in my approach\n",
    "\n",
    "#importing numpy and creating an array\n",
    "import numpy as np\n",
    "\n",
    "arr = np.array([1,2,3,4,5])\n",
    "print(arr)"
   ]
  },
  {
   "cell_type": "code",
   "execution_count": 117,
   "id": "42955214-250a-4fc6-a2f7-fda9f09c0432",
   "metadata": {},
   "outputs": [
    {
     "name": "stdout",
     "output_type": "stream",
     "text": [
      "42\n",
      "[1 2 3 4]\n",
      "[[1 2 3 4]\n",
      " [5 6 7 8]]\n",
      "[[[1 2 3]\n",
      "  [4 5 6]]\n",
      "\n",
      " [[1 2 3]\n",
      "  [4 5 6]]]\n",
      "0\n",
      "1\n",
      "2\n",
      "3\n",
      "[[[[[1 2 3]\n",
      "    [4 5 6]]]]]\n",
      "Array has 5 dimensions\n",
      "(1, 1, 1, 2, 3)\n",
      "['1' '2' '3' '4']\n",
      "<U1\n",
      "['5' '6' '7' '8']\n",
      "<U11\n"
     ]
    }
   ],
   "source": [
    "#Dimensions in arrays\n",
    "\n",
    "a = np.array(42) #0D array/Scalars\n",
    "b = np.array([1,2,3,4]) #1D array/Vectors\n",
    "c = np.array([[1,2,3,4], [5,6,7,8]]) #2D array/Matrix\n",
    "d = np.array([[[1,2,3],[4,5,6]],[[1,2,3], [4,5,6]]]) #3D array/Tensor\n",
    "\n",
    "print(a) \n",
    "print(b)\n",
    "print(c)\n",
    "print(d)\n",
    "\n",
    "#Ascertain the number of dimensions\n",
    "print(a.ndim)\n",
    "print(b.ndim)\n",
    "print(c.ndim)\n",
    "print(d.ndim)\n",
    "\n",
    "#Creating higher dimensional arrays\n",
    "arr = np.array([[1,2,3],[4,5,6]], ndmin = 5)\n",
    "print(arr)\n",
    "print(\"Array has\", arr.ndim, \"dimensions\")\n",
    "print(arr.shape)\n",
    "\n",
    "#random test try-out\n",
    "#Changing datatypes\n",
    "\n",
    "#Convert into a unistring\n",
    "syntax = np.array([1,2,3,4], dtype = \"U\")\n",
    "print(syntax)\n",
    "print(syntax.dtype)\n",
    "\n",
    "#Convert into a string\n",
    "syntax2 = np.array([5,6,7,8])\n",
    "syntax2 = syntax2.astype(str)\n",
    "print(syntax2) #the output does not correspond with the quizz' answer\n",
    "print(syntax2.dtype)\n"
   ]
  },
  {
   "cell_type": "code",
   "execution_count": 161,
   "id": "d07b7909-fc83-4be1-bf1a-5464c743cfd3",
   "metadata": {},
   "outputs": [
    {
     "name": "stdout",
     "output_type": "stream",
     "text": [
      "[ 0  2  4  6  8 10 12 14 16 18 20]\n",
      "[ 0 25 50]\n",
      "[ 0  5 10 15 20 25 30 35 40 45 50]\n",
      "[ 0.   2.5  5.   7.5 10. ]\n"
     ]
    }
   ],
   "source": [
    "#Creating a range of numbers (stepwise)\n",
    "#Use .arange(start, end, step)\n",
    "rangeNum = np.arange(0, 21, 2)\n",
    "print(rangeNum)\n",
    "\n",
    "#Use .linspace(start, end, number of values)\n",
    "rangeNum2 = np.linspace(0, 50, 3, dtype = int)\n",
    "print(rangeNum2)\n",
    "\n",
    "#More examples\n",
    "#Example\n",
    "rangeNum3 = np.arange(0, 51, 5)\n",
    "print(rangeNum3)\n",
    "\n",
    "#Example\n",
    "rangeNum4 = np.linspace(0, 10, 5)\n",
    "print(rangeNum4)"
   ]
  }
 ],
 "metadata": {
  "kernelspec": {
   "display_name": "Python [conda env:base] *",
   "language": "python",
   "name": "conda-base-py"
  },
  "language_info": {
   "codemirror_mode": {
    "name": "ipython",
    "version": 3
   },
   "file_extension": ".py",
   "mimetype": "text/x-python",
   "name": "python",
   "nbconvert_exporter": "python",
   "pygments_lexer": "ipython3",
   "version": "3.12.7"
  }
 },
 "nbformat": 4,
 "nbformat_minor": 5
}
