{
 "cells": [
  {
   "cell_type": "code",
   "execution_count": 3,
   "id": "97e3ad60-849d-497c-addc-3211d41f98c0",
   "metadata": {},
   "outputs": [
    {
     "name": "stdout",
     "output_type": "stream",
     "text": [
      "[[ 1  2  3  4  5]\n",
      " [ 6  7  8  9 10]\n",
      " [11 12 13 14 15]\n",
      " [16 17 18 19 20]\n",
      " [21 22 23 24 25]\n",
      " [26 27 28 29 30]]\n",
      "[[11 12]\n",
      " [16 17]]\n",
      "[ 2  8 14 20]\n",
      "[[ 4  5]\n",
      " [24 25]\n",
      " [29 30]]\n",
      "[[ 4  5]\n",
      " [24 25]\n",
      " [29 30]]\n",
      "[[ 2  3  4  5]\n",
      " [ 7  8  9 10]\n",
      " [12 13 14 15]\n",
      " [17 18 19 20]]\n"
     ]
    }
   ],
   "source": [
    "#This is a random test I found on the internet. I will attempt it off the bat with the knowledge I have on numPy then correct it later.\n",
    "\n",
    "#import libraries using an alias\n",
    "import numpy as np \n",
    "\n",
    "#creating a (6, 5) array running from one through thirty row-wise (default)\n",
    "a = np.arange(1, 31).reshape(6, 5)\n",
    "print(a)\n",
    "\n",
    "#slicing the arrays according to test instructions\n",
    "#TEST ONE\n",
    "print(a[2:4, 0:2])\n",
    "\n",
    "#TEST TWO\n",
    "#print(a[1:0, 2:1, 3:2, 4:3]) => this is my first attempt but you can't index a 2d array 4 times so it's incorrect\n",
    "#at this point I am stuck so I'll skip to the solution\n",
    "print(a[[0,1,2,3], [1,2,3,4]]) #we use two different lists, so that numpy reads it as 2d indexing\n",
    "\n",
    "#TEST THREE\n",
    "#print(a[[0, 4, 5], [3,4]]) => numpy expects both index arrays to be the same shape. List one has three, list two has two.\n",
    "#to correct that\n",
    "print(a[[0,4,5], 3:])\n",
    "\n",
    "#another solution to the similar test would be to use np.ix_ which I learnt after some interaction with AI.\n",
    "rows = [0,4,5]\n",
    "cols = [3, 4]\n",
    "print(a[np.ix_(rows, cols)])\n",
    "\n",
    "#I'll attempt to use np.ix_ on the second test\n",
    "rows = [0,1,2,3]\n",
    "cols = [1,2,3,4]\n",
    "print(a[np.ix_(rows, cols)]) #this doesn't give the preferred solution. However, it's a revelation on how to use np.ix_\n"
   ]
  }
 ],
 "metadata": {
  "kernelspec": {
   "display_name": "Python [conda env:base] *",
   "language": "python",
   "name": "conda-base-py"
  },
  "language_info": {
   "codemirror_mode": {
    "name": "ipython",
    "version": 3
   },
   "file_extension": ".py",
   "mimetype": "text/x-python",
   "name": "python",
   "nbconvert_exporter": "python",
   "pygments_lexer": "ipython3",
   "version": "3.12.7"
  }
 },
 "nbformat": 4,
 "nbformat_minor": 5
}
