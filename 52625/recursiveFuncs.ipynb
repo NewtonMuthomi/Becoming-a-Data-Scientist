{
 "cells": [
  {
   "cell_type": "code",
   "execution_count": 34,
   "id": "b4f3d49b-7298-4b72-9d7a-d134310b19d4",
   "metadata": {},
   "outputs": [
    {
     "name": "stdout",
     "output_type": "stream",
     "text": [
      "Recursion Example Result:\n",
      "Entering k=5\n",
      "Entering k=4\n",
      "Entering k=3\n",
      "Entering k=2\n",
      "Entering k=1\n",
      "Entering k=0\n",
      "Base case reached at k=0\n",
      "Returning from k=1 with result=1\n",
      "Returning from k=2 with result=3\n",
      "Returning from k=3 with result=6\n",
      "Returning from k=4 with result=10\n",
      "Returning from k=5 with result=15\n"
     ]
    },
    {
     "data": {
      "text/plain": [
       "15"
      ]
     },
     "execution_count": 34,
     "metadata": {},
     "output_type": "execute_result"
    }
   ],
   "source": [
    "def tri_recursion(k):\n",
    "    print(f'Entering k={k}')\n",
    "    if k>0:\n",
    "        result = k + tri_recursion(k-1)\n",
    "        print(f'Returning from k={k} with result={result}')\n",
    "    else:\n",
    "        result = 0\n",
    "        print(f'Base case reached at k={k}')\n",
    "    return result\n",
    "\n",
    "print('Recursion Example Result:')\n",
    "tri_recursion(5)"
   ]
  },
  {
   "cell_type": "code",
   "execution_count": 40,
   "id": "04b3d8e6-b91a-4d0f-a6e3-7d3e20272d18",
   "metadata": {},
   "outputs": [
    {
     "data": {
      "text/plain": [
       "24"
      ]
     },
     "execution_count": 40,
     "metadata": {},
     "output_type": "execute_result"
    }
   ],
   "source": [
    "def factorial(n):\n",
    "    if n == 1:\n",
    "        return 1\n",
    "    else:\n",
    "        return n*factorial(n-1)\n",
    "\n",
    "factorial(4)"
   ]
  },
  {
   "cell_type": "code",
   "execution_count": 58,
   "id": "798783dc-74cd-4692-8826-8fcb81c3e7dc",
   "metadata": {},
   "outputs": [
    {
     "name": "stdout",
     "output_type": "stream",
     "text": [
      "5\n",
      "4\n",
      "3\n",
      "2\n",
      "1\n"
     ]
    },
    {
     "data": {
      "text/plain": [
       "0"
      ]
     },
     "execution_count": 58,
     "metadata": {},
     "output_type": "execute_result"
    }
   ],
   "source": [
    "def countdown(n):\n",
    "    if n>0:\n",
    "        print(n)\n",
    "    else:\n",
    "        return 0\n",
    "    return countdown(n-1)\n",
    "\n",
    "countdown(5)"
   ]
  },
  {
   "cell_type": "code",
   "execution_count": 70,
   "id": "a52cbd4a-32bb-4598-95cb-8ad127f1c74d",
   "metadata": {},
   "outputs": [
    {
     "data": {
      "text/plain": [
       "21"
      ]
     },
     "execution_count": 70,
     "metadata": {},
     "output_type": "execute_result"
    }
   ],
   "source": [
    "def fibonacci(n):\n",
    "    if n == 0:\n",
    "        return 0\n",
    "    elif n == 1:\n",
    "        return 1\n",
    "    else: \n",
    "        return fibonacci(n-1) + fibonacci(n-2)\n",
    "\n",
    "fibonacci(8)\n"
   ]
  },
  {
   "cell_type": "code",
   "execution_count": 100,
   "id": "79da6033-bd8a-4a48-a08b-62a3979d0276",
   "metadata": {},
   "outputs": [
    {
     "data": {
      "text/plain": [
       "'god'"
      ]
     },
     "execution_count": 100,
     "metadata": {},
     "output_type": "execute_result"
    }
   ],
   "source": [
    "def reverse_string(s):\n",
    "    if len(s) <= 1:\n",
    "        return s\n",
    "    else: \n",
    "        return reverse_string(s[1:]) + s[0]\n",
    "\n",
    "reverse_string('dog')\n"
   ]
  },
  {
   "cell_type": "code",
   "execution_count": 110,
   "id": "635154c0-c9d1-410a-8308-09cc9470985e",
   "metadata": {},
   "outputs": [
    {
     "data": {
      "text/plain": [
       "24"
      ]
     },
     "execution_count": 110,
     "metadata": {},
     "output_type": "execute_result"
    }
   ],
   "source": [
    "def product(lst):\n",
    "    if len(lst) == 0:\n",
    "        return 1\n",
    "    else: \n",
    "        return lst[0]*product(lst[1:])\n",
    "\n",
    "product([1,2,3,4])"
   ]
  },
  {
   "cell_type": "code",
   "execution_count": 120,
   "id": "ad43df0a-7ba0-49d5-9e86-77fe51cbe5fe",
   "metadata": {},
   "outputs": [
    {
     "data": {
      "text/plain": [
       "2"
      ]
     },
     "execution_count": 120,
     "metadata": {},
     "output_type": "execute_result"
    }
   ],
   "source": [
    "def sum_even(lst):\n",
    "    if len(lst) == 0:\n",
    "        return 0\n",
    "    elif lst[0] % 2 == 0:\n",
    "        return lst[0] + sum_even(lst[1:])\n",
    "    else: \n",
    "        return sum_even(lst[1:])\n",
    "\n",
    "sum_even([1,3,2,5,6)"
   ]
  },
  {
   "cell_type": "code",
   "execution_count": 16,
   "id": "e96c87c0-0978-4e70-a8ca-ffff3e0fd353",
   "metadata": {},
   "outputs": [
    {
     "data": {
      "text/plain": [
       "5"
      ]
     },
     "execution_count": 16,
     "metadata": {},
     "output_type": "execute_result"
    }
   ],
   "source": [
    "def find_max(lst):\n",
    "    if len(lst) == 1:\n",
    "        return lst[0]\n",
    "    else:\n",
    "        max_rest = find_max(lst[1:])\n",
    "        return lst[0] if lst[0] > max_rest else max_rest\n",
    "        \n",
    "find_max([1,2,3,5,4])"
   ]
  },
  {
   "cell_type": "code",
   "execution_count": 182,
   "id": "a3b066c9-e2a2-4c01-891c-868e720d01f8",
   "metadata": {},
   "outputs": [
    {
     "data": {
      "text/plain": [
       "7"
      ]
     },
     "execution_count": 182,
     "metadata": {},
     "output_type": "execute_result"
    }
   ],
   "source": [
    "def fizzBuzz(input):\n",
    "    if input%15 == 0:\n",
    "        return 'FizzBuzz'\n",
    "    elif input%5 == 0:\n",
    "        return 'Buzz'\n",
    "    elif input%3==0:\n",
    "        return 'Fizz'\n",
    "    else:\n",
    "        return input\n",
    "\n",
    "fizzBuzz(7)"
   ]
  },
  {
   "cell_type": "code",
   "execution_count": 214,
   "id": "27500075-7b27-4abb-ac97-9a82354f661a",
   "metadata": {},
   "outputs": [
    {
     "data": {
      "text/plain": [
       "1"
      ]
     },
     "execution_count": 214,
     "metadata": {},
     "output_type": "execute_result"
    }
   ],
   "source": [
    "def fibonacci(idx):\n",
    "    seq = [0,1]\n",
    "    for i in range(idx):\n",
    "        seq.append(seq[-1]+seq[-2])\n",
    "    return seq[-2]\n",
    "\n",
    "fibonacci(2)"
   ]
  }
 ],
 "metadata": {
  "kernelspec": {
   "display_name": "Python [conda env:base] *",
   "language": "python",
   "name": "conda-base-py"
  },
  "language_info": {
   "codemirror_mode": {
    "name": "ipython",
    "version": 3
   },
   "file_extension": ".py",
   "mimetype": "text/x-python",
   "name": "python",
   "nbconvert_exporter": "python",
   "pygments_lexer": "ipython3",
   "version": "3.12.7"
  }
 },
 "nbformat": 4,
 "nbformat_minor": 5
}
