{
 "cells": [
  {
   "cell_type": "code",
   "execution_count": 68,
   "id": "bdaa89d4-b5b0-4344-94d9-fabe088b1c42",
   "metadata": {},
   "outputs": [
    {
     "name": "stdout",
     "output_type": "stream",
     "text": [
      "Thursday\n",
      "Fail\n",
      "260\n"
     ]
    }
   ],
   "source": [
    "def day_name(n):\n",
    "    match n:\n",
    "        case 1:\n",
    "            return 'Monday'\n",
    "        case 2:\n",
    "            return 'Tuesday'\n",
    "        case 3:\n",
    "            return 'Wednesday'\n",
    "        case 4:\n",
    "            return 'Thursday'\n",
    "        case 5:\n",
    "            return 'Friday'\n",
    "        case 6:\n",
    "            return 'Saturday'\n",
    "        case 7:\n",
    "            return 'Sunday'\n",
    "        case _:\n",
    "            return 'Invalid Day'\n",
    "\n",
    "result = day_name(4)\n",
    "print(result)\n",
    "\n",
    "def feedback(grade):\n",
    "    match grade:\n",
    "        case 'A':\n",
    "            return 'Excellent'\n",
    "        case 'B':\n",
    "            return 'Good'\n",
    "        case 'C':\n",
    "            return 'Average'\n",
    "        case 'D'|'E':\n",
    "            return 'Poor'\n",
    "        case 'F':\n",
    "            return 'Fail'\n",
    "        case _:\n",
    "            return 'Invalid Grade.'\n",
    "\n",
    "result = feedback('F')\n",
    "print(result)\n",
    "\n",
    "def calculate(a, b, op):\n",
    "    match op:\n",
    "        case '+': \n",
    "            return a + b\n",
    "        case '-':\n",
    "            return a - b\n",
    "        case '*':\n",
    "            return a*b\n",
    "        case '/':\n",
    "            if b!=0:\n",
    "                return a/b\n",
    "            else:\n",
    "                return 'Divide by zero.'\n",
    "        case _:\n",
    "            return 'Unknown operation.'\n",
    "\n",
    "result = calculate(20,13,'*')\n",
    "print(result)"
   ]
  }
 ],
 "metadata": {
  "kernelspec": {
   "display_name": "Python [conda env:base] *",
   "language": "python",
   "name": "conda-base-py"
  },
  "language_info": {
   "codemirror_mode": {
    "name": "ipython",
    "version": 3
   },
   "file_extension": ".py",
   "mimetype": "text/x-python",
   "name": "python",
   "nbconvert_exporter": "python",
   "pygments_lexer": "ipython3",
   "version": "3.12.7"
  }
 },
 "nbformat": 4,
 "nbformat_minor": 5
}
