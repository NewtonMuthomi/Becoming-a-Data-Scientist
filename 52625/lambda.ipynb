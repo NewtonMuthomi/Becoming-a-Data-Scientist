{
 "cells": [
  {
   "cell_type": "code",
   "execution_count": 2,
   "id": "d1ce5eae-6775-4c92-8aba-df5668c7c600",
   "metadata": {},
   "outputs": [
    {
     "name": "stdout",
     "output_type": "stream",
     "text": [
      "Good Evening, Newton\n"
     ]
    }
   ],
   "source": [
    "def make_greeter(name):\n",
    "    return lambda time: f'Good {time}, {name}'\n",
    "\n",
    "person = make_greeter('Newton')\n",
    "print(person('Evening'))"
   ]
  },
  {
   "cell_type": "code",
   "execution_count": 24,
   "id": "929de7c5-074b-4346-9bf0-93d178100295",
   "metadata": {},
   "outputs": [
    {
     "name": "stdout",
     "output_type": "stream",
     "text": [
      "Hello, Alice\n",
      "!Hola, Bob\n",
      "Bonjour, Charlie\n"
     ]
    }
   ],
   "source": [
    "def make_translator(language):\n",
    "    greetings = {\n",
    "        'en': 'Hello',\n",
    "        'es': '!Hola',\n",
    "        'fr': 'Bonjour'}\n",
    "    \n",
    "    greeting = greetings.get(language, 'Sorry, language not supported!')\n",
    "    \n",
    "    return lambda name: f'{greeting}, {name}'\n",
    "\n",
    "english_greeter = make_translator('en')\n",
    "spanish_greeter = make_translator('es')\n",
    "french_greeter = make_translator('fr')\n",
    "\n",
    "print(english_greeter('Alice'))\n",
    "print(spanish_greeter('Bob'))\n",
    "print(french_greeter('Charlie'))"
   ]
  }
 ],
 "metadata": {
  "kernelspec": {
   "display_name": "Python [conda env:base] *",
   "language": "python",
   "name": "conda-base-py"
  },
  "language_info": {
   "codemirror_mode": {
    "name": "ipython",
    "version": 3
   },
   "file_extension": ".py",
   "mimetype": "text/x-python",
   "name": "python",
   "nbconvert_exporter": "python",
   "pygments_lexer": "ipython3",
   "version": "3.12.7"
  }
 },
 "nbformat": 4,
 "nbformat_minor": 5
}
