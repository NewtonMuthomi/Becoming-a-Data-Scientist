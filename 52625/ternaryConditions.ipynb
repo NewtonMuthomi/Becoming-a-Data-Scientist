{
 "cells": [
  {
   "cell_type": "code",
   "execution_count": 2,
   "id": "6375a1ff-dc4e-4cf9-b253-85d34b43348b",
   "metadata": {},
   "outputs": [
    {
     "name": "stdout",
     "output_type": "stream",
     "text": [
      "=\n"
     ]
    }
   ],
   "source": [
    "a=330\n",
    "b=330\n",
    "print('A') if a > b else print ('=') if a == b else print ('B')"
   ]
  },
  {
   "cell_type": "code",
   "execution_count": 135,
   "id": "985c59cc-e203-41dd-b0ee-bf387ceb6192",
   "metadata": {},
   "outputs": [
    {
     "name": "stdout",
     "output_type": "stream",
     "text": [
      "Zero\n",
      "Adult\n",
      "Too cold!\n",
      "C\n"
     ]
    }
   ],
   "source": [
    "def sign(x):\n",
    "    return 'Positive' if x > 0 else 'Zero' if x == 0 else 'Negative'\n",
    "    \n",
    "result = sign(0)\n",
    "print(result)\n",
    "\n",
    "def category(age):\n",
    "    return 'Senior' if age > 65 else 'Adult' if age > 18 else 'Minor'\n",
    "\n",
    "result = category(30)\n",
    "print(result)\n",
    " \n",
    "def alert(temp):\n",
    "    return 'Too hot!' if temp > 30 else ('Too cold!') if temp < 10 else ('Comfortable!')\n",
    "\n",
    "result = alert(0)\n",
    "print(result)\n",
    "\n",
    "def grade(score):\n",
    "    return 'A' if score > 90 else 'B' if score > 80 else 'C'\n",
    "\n",
    "result = grade(64)\n",
    "print(result)"
   ]
  },
  {
   "cell_type": "code",
   "execution_count": 157,
   "id": "7803d470-f063-474f-b6a9-0032b0664a89",
   "metadata": {},
   "outputs": [
    {
     "name": "stdout",
     "output_type": "stream",
     "text": [
      "a is greater than b.\n",
      "b is greater than a.\n",
      "They are equal.\n",
      "Access Denied\n",
      "Alice is older than Bob.\n"
     ]
    }
   ],
   "source": [
    "def greater(a,b):\n",
    "    return 'a is greater than b.' if a>b else 'b is greater than a.' if b>a else \"They are equal.\"\n",
    "\n",
    "a_is_greater = greater(7,3)\n",
    "b_is_greater = greater(4,9)\n",
    "they_equal = greater(5,5)\n",
    "print(a_is_greater)\n",
    "print(b_is_greater)\n",
    "print(they_equal)\n",
    "\n",
    "def check_password(stored, entered):\n",
    "    return 'Access Granted' if stored == entered else 'Access Denied'\n",
    "\n",
    "result = check_password('123ABC', '123AB')\n",
    "print(result)\n",
    "\n",
    "def older(name1, age1, name2, age2):\n",
    "    return f'{name1} is older than {name2}.' if age1 > age2 else f'{name2} is older than {name1}.' if age2 > age1 else 'They are the same age.'\n",
    "\n",
    "result = older('Alice', 35, 'Bob', 30)\n",
    "print(result)"
   ]
  }
 ],
 "metadata": {
  "kernelspec": {
   "display_name": "Python [conda env:base] *",
   "language": "python",
   "name": "conda-base-py"
  },
  "language_info": {
   "codemirror_mode": {
    "name": "ipython",
    "version": 3
   },
   "file_extension": ".py",
   "mimetype": "text/x-python",
   "name": "python",
   "nbconvert_exporter": "python",
   "pygments_lexer": "ipython3",
   "version": "3.12.7"
  }
 },
 "nbformat": 4,
 "nbformat_minor": 5
}
